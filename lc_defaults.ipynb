{
 "cells": [
  {
   "cell_type": "markdown",
   "id": "04c5369c-9c07-48ec-a20e-cb0c399932cb",
   "metadata": {},
   "source": [
    "# Lending Club loans dataset\n",
    "\n",
    "## Objective\n",
    "\n",
    "* Create ML model to predict probability of default on LC dataset\n",
    "\n",
    "* Group loans into risk bins that are similar to original LC sub-grade classification\n",
    "\n",
    "* Compare classifications\n",
    "\n",
    "* Estimate required interest rates for new risk groups\n",
    "\n",
    "* Compare rates"
   ]
  },
  {
   "cell_type": "code",
   "execution_count": 1,
   "id": "394c94ef-37a3-425a-adea-79a4395a96ed",
   "metadata": {
    "tags": []
   },
   "outputs": [
    {
     "name": "stderr",
     "output_type": "stream",
     "text": [
      "C:\\Users\\HP\\notebooks\\Turing\\M3CAP\\env\\lib\\site-packages\\tqdm\\auto.py:22: TqdmWarning: IProgress not found. Please update jupyter and ipywidgets. See https://ipywidgets.readthedocs.io/en/stable/user_install.html\n",
      "  from .autonotebook import tqdm as notebook_tqdm\n"
     ]
    }
   ],
   "source": [
    "import numpy as np\n",
    "import pandas as pd\n",
    "import scipy\n",
    "import scipy.optimize as opt\n",
    "pd.options.mode.chained_assignment = None\n",
    "import matplotlib.pyplot as plt\n",
    "import seaborn as sns\n",
    "\n",
    "from sklearn.metrics import classification_report, roc_auc_score, log_loss\n",
    "from sklearn.preprocessing import OneHotEncoder\n",
    "from sklearn.compose import ColumnTransformer\n",
    "from sklearn.model_selection import train_test_split\n",
    "from sklearn.calibration import CalibrationDisplay\n",
    "\n",
    "from category_encoders import TargetEncoder\n",
    "\n",
    "import xgboost as xgb\n",
    "import shap\n",
    "\n",
    "from numba import njit"
   ]
  },
  {
   "cell_type": "markdown",
   "id": "961dc497-61bb-49db-b644-acaf69a3fb60",
   "metadata": {},
   "source": [
    "# PREP\n",
    "\n",
    "* Original dataset: https://www.kaggle.com/datasets/wordsforthewise/lending-club\n",
    "\n",
    "* I already dropped columns that are for joint application loans or are known after loan issue"
   ]
  },
  {
   "cell_type": "code",
   "execution_count": 2,
   "id": "daf77307-829c-4c65-96ec-eaeb20b86cd6",
   "metadata": {
    "tags": []
   },
   "outputs": [],
   "source": [
    "loans = pd.read_parquet('loans_reduced.parquet')"
   ]
  },
  {
   "cell_type": "code",
   "execution_count": 3,
   "id": "117a442d-e558-471c-8550-51da46a49507",
   "metadata": {
    "tags": []
   },
   "outputs": [
    {
     "data": {
      "text/plain": [
       "(2260668, 95)"
      ]
     },
     "execution_count": 3,
     "metadata": {},
     "output_type": "execute_result"
    }
   ],
   "source": [
    "loans.shape"
   ]
  },
  {
   "cell_type": "markdown",
   "id": "e34216d7-6d97-4199-a167-2698eb0ef350",
   "metadata": {},
   "source": [
    "## Nan fill\n",
    "\n",
    "* Apply different strategies to columns"
   ]
  },
  {
   "cell_type": "code",
   "execution_count": 4,
   "id": "d09727cb-7478-4b3e-b182-448d786414a7",
   "metadata": {
    "tags": []
   },
   "outputs": [
    {
     "data": {
      "text/html": [
       "<style type=\"text/css\">\n",
       "</style>\n",
       "<table id=\"T_39298\">\n",
       "  <thead>\n",
       "    <tr>\n",
       "      <th class=\"blank level0\" >&nbsp;</th>\n",
       "      <th id=\"T_39298_level0_col0\" class=\"col_heading level0 col0\" >0</th>\n",
       "    </tr>\n",
       "  </thead>\n",
       "  <tbody>\n",
       "    <tr>\n",
       "      <th id=\"T_39298_level0_row0\" class=\"row_heading level0 row0\" >total_bc_limit</th>\n",
       "      <td id=\"T_39298_row0_col0\" class=\"data row0 col0\" >0.02</td>\n",
       "    </tr>\n",
       "    <tr>\n",
       "      <th id=\"T_39298_level0_row1\" class=\"row_heading level0 row1\" >total_bal_ex_mort</th>\n",
       "      <td id=\"T_39298_row1_col0\" class=\"data row1 col0\" >0.02</td>\n",
       "    </tr>\n",
       "    <tr>\n",
       "      <th id=\"T_39298_level0_row2\" class=\"row_heading level0 row2\" >acc_open_past_24mths</th>\n",
       "      <td id=\"T_39298_row2_col0\" class=\"data row2 col0\" >0.02</td>\n",
       "    </tr>\n",
       "    <tr>\n",
       "      <th id=\"T_39298_level0_row3\" class=\"row_heading level0 row3\" >mort_acc</th>\n",
       "      <td id=\"T_39298_row3_col0\" class=\"data row3 col0\" >0.02</td>\n",
       "    </tr>\n",
       "    <tr>\n",
       "      <th id=\"T_39298_level0_row4\" class=\"row_heading level0 row4\" >num_sats</th>\n",
       "      <td id=\"T_39298_row4_col0\" class=\"data row4 col0\" >0.03</td>\n",
       "    </tr>\n",
       "    <tr>\n",
       "      <th id=\"T_39298_level0_row5\" class=\"row_heading level0 row5\" >num_bc_sats</th>\n",
       "      <td id=\"T_39298_row5_col0\" class=\"data row5 col0\" >0.03</td>\n",
       "    </tr>\n",
       "    <tr>\n",
       "      <th id=\"T_39298_level0_row6\" class=\"row_heading level0 row6\" >mo_sin_rcnt_tl</th>\n",
       "      <td id=\"T_39298_row6_col0\" class=\"data row6 col0\" >0.03</td>\n",
       "    </tr>\n",
       "    <tr>\n",
       "      <th id=\"T_39298_level0_row7\" class=\"row_heading level0 row7\" >num_accts_ever_120_pd</th>\n",
       "      <td id=\"T_39298_row7_col0\" class=\"data row7 col0\" >0.03</td>\n",
       "    </tr>\n",
       "    <tr>\n",
       "      <th id=\"T_39298_level0_row8\" class=\"row_heading level0 row8\" >total_rev_hi_lim</th>\n",
       "      <td id=\"T_39298_row8_col0\" class=\"data row8 col0\" >0.03</td>\n",
       "    </tr>\n",
       "    <tr>\n",
       "      <th id=\"T_39298_level0_row9\" class=\"row_heading level0 row9\" >num_actv_bc_tl</th>\n",
       "      <td id=\"T_39298_row9_col0\" class=\"data row9 col0\" >0.03</td>\n",
       "    </tr>\n",
       "    <tr>\n",
       "      <th id=\"T_39298_level0_row10\" class=\"row_heading level0 row10\" >num_actv_rev_tl</th>\n",
       "      <td id=\"T_39298_row10_col0\" class=\"data row10 col0\" >0.03</td>\n",
       "    </tr>\n",
       "    <tr>\n",
       "      <th id=\"T_39298_level0_row11\" class=\"row_heading level0 row11\" >num_bc_tl</th>\n",
       "      <td id=\"T_39298_row11_col0\" class=\"data row11 col0\" >0.03</td>\n",
       "    </tr>\n",
       "    <tr>\n",
       "      <th id=\"T_39298_level0_row12\" class=\"row_heading level0 row12\" >total_il_high_credit_limit</th>\n",
       "      <td id=\"T_39298_row12_col0\" class=\"data row12 col0\" >0.03</td>\n",
       "    </tr>\n",
       "    <tr>\n",
       "      <th id=\"T_39298_level0_row13\" class=\"row_heading level0 row13\" >num_rev_tl_bal_gt_0</th>\n",
       "      <td id=\"T_39298_row13_col0\" class=\"data row13 col0\" >0.03</td>\n",
       "    </tr>\n",
       "    <tr>\n",
       "      <th id=\"T_39298_level0_row14\" class=\"row_heading level0 row14\" >num_tl_30dpd</th>\n",
       "      <td id=\"T_39298_row14_col0\" class=\"data row14 col0\" >0.03</td>\n",
       "    </tr>\n",
       "    <tr>\n",
       "      <th id=\"T_39298_level0_row15\" class=\"row_heading level0 row15\" >num_tl_90g_dpd_24m</th>\n",
       "      <td id=\"T_39298_row15_col0\" class=\"data row15 col0\" >0.03</td>\n",
       "    </tr>\n",
       "    <tr>\n",
       "      <th id=\"T_39298_level0_row16\" class=\"row_heading level0 row16\" >tot_cur_bal</th>\n",
       "      <td id=\"T_39298_row16_col0\" class=\"data row16 col0\" >0.03</td>\n",
       "    </tr>\n",
       "    <tr>\n",
       "      <th id=\"T_39298_level0_row17\" class=\"row_heading level0 row17\" >tot_coll_amt</th>\n",
       "      <td id=\"T_39298_row17_col0\" class=\"data row17 col0\" >0.03</td>\n",
       "    </tr>\n",
       "    <tr>\n",
       "      <th id=\"T_39298_level0_row18\" class=\"row_heading level0 row18\" >num_tl_op_past_12m</th>\n",
       "      <td id=\"T_39298_row18_col0\" class=\"data row18 col0\" >0.03</td>\n",
       "    </tr>\n",
       "    <tr>\n",
       "      <th id=\"T_39298_level0_row19\" class=\"row_heading level0 row19\" >tot_hi_cred_lim</th>\n",
       "      <td id=\"T_39298_row19_col0\" class=\"data row19 col0\" >0.03</td>\n",
       "    </tr>\n",
       "    <tr>\n",
       "      <th id=\"T_39298_level0_row20\" class=\"row_heading level0 row20\" >num_il_tl</th>\n",
       "      <td id=\"T_39298_row20_col0\" class=\"data row20 col0\" >0.03</td>\n",
       "    </tr>\n",
       "    <tr>\n",
       "      <th id=\"T_39298_level0_row21\" class=\"row_heading level0 row21\" >num_op_rev_tl</th>\n",
       "      <td id=\"T_39298_row21_col0\" class=\"data row21 col0\" >0.03</td>\n",
       "    </tr>\n",
       "    <tr>\n",
       "      <th id=\"T_39298_level0_row22\" class=\"row_heading level0 row22\" >mo_sin_rcnt_rev_tl_op</th>\n",
       "      <td id=\"T_39298_row22_col0\" class=\"data row22 col0\" >0.03</td>\n",
       "    </tr>\n",
       "    <tr>\n",
       "      <th id=\"T_39298_level0_row23\" class=\"row_heading level0 row23\" >num_rev_accts</th>\n",
       "      <td id=\"T_39298_row23_col0\" class=\"data row23 col0\" >0.03</td>\n",
       "    </tr>\n",
       "    <tr>\n",
       "      <th id=\"T_39298_level0_row24\" class=\"row_heading level0 row24\" >mo_sin_old_rev_tl_op</th>\n",
       "      <td id=\"T_39298_row24_col0\" class=\"data row24 col0\" >0.03</td>\n",
       "    </tr>\n",
       "    <tr>\n",
       "      <th id=\"T_39298_level0_row25\" class=\"row_heading level0 row25\" >avg_cur_bal</th>\n",
       "      <td id=\"T_39298_row25_col0\" class=\"data row25 col0\" >0.03</td>\n",
       "    </tr>\n",
       "    <tr>\n",
       "      <th id=\"T_39298_level0_row26\" class=\"row_heading level0 row26\" >pct_tl_nvr_dlq</th>\n",
       "      <td id=\"T_39298_row26_col0\" class=\"data row26 col0\" >0.03</td>\n",
       "    </tr>\n",
       "    <tr>\n",
       "      <th id=\"T_39298_level0_row27\" class=\"row_heading level0 row27\" >mths_since_recent_bc</th>\n",
       "      <td id=\"T_39298_row27_col0\" class=\"data row27 col0\" >0.03</td>\n",
       "    </tr>\n",
       "    <tr>\n",
       "      <th id=\"T_39298_level0_row28\" class=\"row_heading level0 row28\" >bc_open_to_buy</th>\n",
       "      <td id=\"T_39298_row28_col0\" class=\"data row28 col0\" >0.03</td>\n",
       "    </tr>\n",
       "    <tr>\n",
       "      <th id=\"T_39298_level0_row29\" class=\"row_heading level0 row29\" >percent_bc_gt_75</th>\n",
       "      <td id=\"T_39298_row29_col0\" class=\"data row29 col0\" >0.03</td>\n",
       "    </tr>\n",
       "    <tr>\n",
       "      <th id=\"T_39298_level0_row30\" class=\"row_heading level0 row30\" >bc_util</th>\n",
       "      <td id=\"T_39298_row30_col0\" class=\"data row30 col0\" >0.03</td>\n",
       "    </tr>\n",
       "    <tr>\n",
       "      <th id=\"T_39298_level0_row31\" class=\"row_heading level0 row31\" >mo_sin_old_il_acct</th>\n",
       "      <td id=\"T_39298_row31_col0\" class=\"data row31 col0\" >0.06</td>\n",
       "    </tr>\n",
       "    <tr>\n",
       "      <th id=\"T_39298_level0_row32\" class=\"row_heading level0 row32\" >emp_length</th>\n",
       "      <td id=\"T_39298_row32_col0\" class=\"data row32 col0\" >0.06</td>\n",
       "    </tr>\n",
       "    <tr>\n",
       "      <th id=\"T_39298_level0_row33\" class=\"row_heading level0 row33\" >num_tl_120dpd_2m</th>\n",
       "      <td id=\"T_39298_row33_col0\" class=\"data row33 col0\" >0.07</td>\n",
       "    </tr>\n",
       "    <tr>\n",
       "      <th id=\"T_39298_level0_row34\" class=\"row_heading level0 row34\" >mths_since_recent_inq</th>\n",
       "      <td id=\"T_39298_row34_col0\" class=\"data row34 col0\" >0.13</td>\n",
       "    </tr>\n",
       "    <tr>\n",
       "      <th id=\"T_39298_level0_row35\" class=\"row_heading level0 row35\" >open_il_12m</th>\n",
       "      <td id=\"T_39298_row35_col0\" class=\"data row35 col0\" >0.38</td>\n",
       "    </tr>\n",
       "    <tr>\n",
       "      <th id=\"T_39298_level0_row36\" class=\"row_heading level0 row36\" >inq_fi</th>\n",
       "      <td id=\"T_39298_row36_col0\" class=\"data row36 col0\" >0.38</td>\n",
       "    </tr>\n",
       "    <tr>\n",
       "      <th id=\"T_39298_level0_row37\" class=\"row_heading level0 row37\" >max_bal_bc</th>\n",
       "      <td id=\"T_39298_row37_col0\" class=\"data row37 col0\" >0.38</td>\n",
       "    </tr>\n",
       "    <tr>\n",
       "      <th id=\"T_39298_level0_row38\" class=\"row_heading level0 row38\" >open_rv_24m</th>\n",
       "      <td id=\"T_39298_row38_col0\" class=\"data row38 col0\" >0.38</td>\n",
       "    </tr>\n",
       "    <tr>\n",
       "      <th id=\"T_39298_level0_row39\" class=\"row_heading level0 row39\" >open_rv_12m</th>\n",
       "      <td id=\"T_39298_row39_col0\" class=\"data row39 col0\" >0.38</td>\n",
       "    </tr>\n",
       "    <tr>\n",
       "      <th id=\"T_39298_level0_row40\" class=\"row_heading level0 row40\" >total_bal_il</th>\n",
       "      <td id=\"T_39298_row40_col0\" class=\"data row40 col0\" >0.38</td>\n",
       "    </tr>\n",
       "    <tr>\n",
       "      <th id=\"T_39298_level0_row41\" class=\"row_heading level0 row41\" >open_il_24m</th>\n",
       "      <td id=\"T_39298_row41_col0\" class=\"data row41 col0\" >0.38</td>\n",
       "    </tr>\n",
       "    <tr>\n",
       "      <th id=\"T_39298_level0_row42\" class=\"row_heading level0 row42\" >open_act_il</th>\n",
       "      <td id=\"T_39298_row42_col0\" class=\"data row42 col0\" >0.38</td>\n",
       "    </tr>\n",
       "    <tr>\n",
       "      <th id=\"T_39298_level0_row43\" class=\"row_heading level0 row43\" >inq_last_12m</th>\n",
       "      <td id=\"T_39298_row43_col0\" class=\"data row43 col0\" >0.38</td>\n",
       "    </tr>\n",
       "    <tr>\n",
       "      <th id=\"T_39298_level0_row44\" class=\"row_heading level0 row44\" >open_acc_6m</th>\n",
       "      <td id=\"T_39298_row44_col0\" class=\"data row44 col0\" >0.38</td>\n",
       "    </tr>\n",
       "    <tr>\n",
       "      <th id=\"T_39298_level0_row45\" class=\"row_heading level0 row45\" >total_cu_tl</th>\n",
       "      <td id=\"T_39298_row45_col0\" class=\"data row45 col0\" >0.38</td>\n",
       "    </tr>\n",
       "    <tr>\n",
       "      <th id=\"T_39298_level0_row46\" class=\"row_heading level0 row46\" >all_util</th>\n",
       "      <td id=\"T_39298_row46_col0\" class=\"data row46 col0\" >0.38</td>\n",
       "    </tr>\n",
       "    <tr>\n",
       "      <th id=\"T_39298_level0_row47\" class=\"row_heading level0 row47\" >mths_since_rcnt_il</th>\n",
       "      <td id=\"T_39298_row47_col0\" class=\"data row47 col0\" >0.40</td>\n",
       "    </tr>\n",
       "    <tr>\n",
       "      <th id=\"T_39298_level0_row48\" class=\"row_heading level0 row48\" >il_util</th>\n",
       "      <td id=\"T_39298_row48_col0\" class=\"data row48 col0\" >0.47</td>\n",
       "    </tr>\n",
       "    <tr>\n",
       "      <th id=\"T_39298_level0_row49\" class=\"row_heading level0 row49\" >mths_since_last_delinq</th>\n",
       "      <td id=\"T_39298_row49_col0\" class=\"data row49 col0\" >0.51</td>\n",
       "    </tr>\n",
       "    <tr>\n",
       "      <th id=\"T_39298_level0_row50\" class=\"row_heading level0 row50\" >mths_since_recent_revol_delinq</th>\n",
       "      <td id=\"T_39298_row50_col0\" class=\"data row50 col0\" >0.67</td>\n",
       "    </tr>\n",
       "    <tr>\n",
       "      <th id=\"T_39298_level0_row51\" class=\"row_heading level0 row51\" >mths_since_last_major_derog</th>\n",
       "      <td id=\"T_39298_row51_col0\" class=\"data row51 col0\" >0.74</td>\n",
       "    </tr>\n",
       "    <tr>\n",
       "      <th id=\"T_39298_level0_row52\" class=\"row_heading level0 row52\" >mths_since_recent_bc_dlq</th>\n",
       "      <td id=\"T_39298_row52_col0\" class=\"data row52 col0\" >0.77</td>\n",
       "    </tr>\n",
       "    <tr>\n",
       "      <th id=\"T_39298_level0_row53\" class=\"row_heading level0 row53\" >mths_since_last_record</th>\n",
       "      <td id=\"T_39298_row53_col0\" class=\"data row53 col0\" >0.84</td>\n",
       "    </tr>\n",
       "  </tbody>\n",
       "</table>\n"
      ],
      "text/plain": [
       "<pandas.io.formats.style.Styler at 0x1426a6c2e00>"
      ]
     },
     "execution_count": 4,
     "metadata": {},
     "output_type": "execute_result"
    }
   ],
   "source": [
    "nans = loans.isna().sum() / loans.shape[0]\n",
    "nans[nans>0.01].sort_values().to_frame().style.format(precision=2)"
   ]
  },
  {
   "cell_type": "code",
   "execution_count": 5,
   "id": "3b577589-93b7-4c06-b010-c80e157b3558",
   "metadata": {
    "tags": []
   },
   "outputs": [],
   "source": [
    "max_list = ['mths_since_last_record', 'mths_since_recent_bc_dlq', 'mths_since_last_major_derog', \n",
    "            'mths_since_recent_revol_delinq', 'mths_since_rcnt_il', 'mths_since_recent_inq', \n",
    "            'pct_tl_nvr_dlq','mo_sin_rcnt_rev_tl_op', 'mo_sin_rcnt_tl', 'mths_since_last_delinq', 'mths_since_recent_bc']\n",
    "\n",
    "min_list = ['il_util', 'all_util', 'open_acc_6m', 'inq_last_12m', 'open_act_il', \n",
    "            'max_bal_bc', 'open_rv_12m', 'open_il_24m', 'open_il_12m', \n",
    "            'open_rv_24m', 'inq_fi', 'total_bal_il', 'num_tl_120dpd_2m',\n",
    "            'bc_util', 'percent_bc_gt_75', 'avg_cur_bal', 'num_rev_accts', \n",
    "            'num_tl_30dpd', 'num_tl_90g_dpd_24m', 'num_actv_bc_tl',\n",
    "            'num_tl_op_past_12m', 'num_il_tl', 'num_bc_tl', 'num_op_rev_tl', \n",
    "            'num_rev_tl_bal_gt_0', 'num_actv_rev_tl', 'tot_cur_bal', 'num_accts_ever_120_pd', \n",
    "            'tot_coll_amt', 'num_sats', 'num_bc_sats', 'acc_open_past_24mths', \n",
    "            'total_bal_ex_mort', 'mort_acc', 'revol_util']\n",
    "\n",
    "median_list = ['total_cu_tl', 'mo_sin_old_il_acct', 'bc_open_to_buy', 'mo_sin_old_rev_tl_op', \n",
    "               'total_il_high_credit_limit', 'total_rev_hi_lim', 'tot_hi_cred_lim', 'total_bc_limit', 'dti', 'emp_length']"
   ]
  },
  {
   "cell_type": "code",
   "execution_count": 6,
   "id": "d0111eb3-1e83-4634-b803-05bcdb46ed11",
   "metadata": {
    "tags": []
   },
   "outputs": [],
   "source": [
    "loans.loc[:, max_list] = loans.loc[:, max_list].fillna(loans[max_list].max()+1)\n",
    "\n",
    "loans.loc[:, min_list] = loans.loc[:, min_list].fillna(0)\n",
    "\n",
    "loans.loc[:, median_list] = loans.loc[:, median_list].fillna(loans[median_list].median())"
   ]
  },
  {
   "cell_type": "markdown",
   "id": "63e5021b-95b4-41e1-a200-11e93cfc688b",
   "metadata": {},
   "source": [
    "## Feature mods\n",
    "\n",
    "* Combine multiple features into one to represent most important information\n",
    "\n",
    "* Add percentage features"
   ]
  },
  {
   "cell_type": "code",
   "execution_count": 7,
   "id": "570a8648-73ec-44d4-b92e-588d82f78d91",
   "metadata": {
    "tags": []
   },
   "outputs": [],
   "source": [
    "recent_acc = ['num_tl_op_past_12m', 'open_acc_6m', 'acc_open_past_24mths']\n",
    "due_acc = ['num_tl_120dpd_2m', 'num_tl_30dpd', 'num_tl_90g_dpd_24m']\n",
    "old_acc = ['mo_sin_old_il_acct', 'mo_sin_old_rev_tl_op']\n",
    "last_acc = ['mo_sin_rcnt_rev_tl_op', 'mo_sin_rcnt_tl', 'mths_since_rcnt_il', 'mths_since_recent_bc', 'mths_since_recent_inq']\n",
    "last_delinq = ['mths_since_last_delinq', 'mths_since_last_major_derog', 'mths_since_last_record', \n",
    "               'mths_since_recent_bc_dlq', 'mths_since_recent_revol_delinq']\n",
    "choffs = ['chargeoff_within_12_mths', 'collections_12_mths_ex_med', 'delinq_2yrs']\n",
    "pub_rec = ['pub_rec', 'pub_rec_bankruptcies', 'tax_liens', 'num_accts_ever_120_pd']"
   ]
  },
  {
   "cell_type": "code",
   "execution_count": 8,
   "id": "dbff9e19-36c1-4794-923b-ed38555f3b10",
   "metadata": {
    "tags": []
   },
   "outputs": [],
   "source": [
    "# weighted most recent account\n",
    "loans.loc[:, 'rec_acc'] = loans['num_tl_op_past_12m'] * 2\\\n",
    "+loans['open_acc_6m'] * 3 + loans['acc_open_past_24mths']\n",
    "\n",
    "# weighted recent delinquencies\n",
    "loans.loc[:, 'due_acc'] = loans['num_tl_120dpd_2m'] * 3 \\\n",
    "+ loans['num_tl_90g_dpd_24m'] +\\\n",
    "loans['num_tl_30dpd'] * 2\n",
    "\n",
    "# months since any oldest account\n",
    "loans.loc[:, 'old_acc'] = np.max(loans.loc[:, old_acc], axis=1)\n",
    "\n",
    "# months since any latest account\n",
    "loans.loc[:, 'last_acc'] = np.min(loans.loc[:, last_acc], axis=1)\n",
    "\n",
    "# months since latest delinquency\n",
    "loans.loc[:, 'last_delinq'] = np.min(loans.loc[:, last_delinq], axis=1)\n",
    "\n",
    "# total number of delinquencies and charge-offs\n",
    "loans.loc[:, 'choffs'] = np.sum(loans.loc[:, choffs], axis=1)\n",
    "\n",
    "# total number of public records\n",
    "loans.loc[:, 'tot_rec'] = np.sum(loans.loc[:, pub_rec], axis=1)\n",
    "\n",
    "# percentage satisfactory accounts\n",
    "loans.loc[:, 'sats_perc'] = loans.num_sats / loans.total_acc\n",
    "\n",
    "# opened acc recent from total\n",
    "loans.loc[:, 'rec_acc_perc'] = loans.num_tl_op_past_12m / loans.total_acc\n",
    "\n",
    "# inq recent from total\n",
    "loans.loc[:, 'rec_inq_perc'] = loans.inq_last_12m / loans.inq_fi\n",
    "\n",
    "# open from total perc\n",
    "loans.loc[:, 'open_perc'] = loans.open_acc / loans.total_acc\n",
    "\n",
    "# loan amnt to income \n",
    "loans.loc[:, 'lti'] = loans.funded_amnt / loans.annual_inc"
   ]
  },
  {
   "cell_type": "code",
   "execution_count": 9,
   "id": "bcd2bd5c-141c-4e3f-b631-54d718ca292c",
   "metadata": {
    "tags": []
   },
   "outputs": [],
   "source": [
    "# fill nans of new features\n",
    "loans.loc[:, 'rec_inq_perc'] = loans.loc[:, 'rec_inq_perc'].replace(np.inf, 0)\n",
    "loans.loc[:, 'rec_inq_perc'] = loans.loc[:, 'rec_inq_perc'].fillna(0)"
   ]
  },
  {
   "cell_type": "code",
   "execution_count": 10,
   "id": "2456a9b4-c0d9-420a-b816-0e5e3c7cdd01",
   "metadata": {
    "tags": []
   },
   "outputs": [],
   "source": [
    "rem_cols = due_acc + last_acc + last_delinq + choffs + old_acc + pub_rec\n",
    "# drop reduced cols\n",
    "loans = loans.loc[:, ~loans.columns.isin(rem_cols)]\n",
    "loans = loans.dropna()"
   ]
  },
  {
   "cell_type": "code",
   "execution_count": 11,
   "id": "cbbd7bdb-a43f-4600-83d5-b777fb0560f4",
   "metadata": {
    "tags": []
   },
   "outputs": [
    {
     "data": {
      "text/plain": [
       "(2259946, 85)"
      ]
     },
     "execution_count": 11,
     "metadata": {},
     "output_type": "execute_result"
    }
   ],
   "source": [
    "loans.shape"
   ]
  },
  {
   "cell_type": "markdown",
   "id": "f90efdf2-54d8-42a3-9629-b4f6a7201cb8",
   "metadata": {},
   "source": [
    "# Model"
   ]
  },
  {
   "cell_type": "markdown",
   "id": "22d36779-5256-456a-b6bb-f7ac671bea8a",
   "metadata": {},
   "source": [
    "* Train on expired loans issued since 2013\n",
    "\n",
    "* Target encoded categorical features: `purpose`, `home_ownership`, `verification_status`\n",
    "\n",
    "* Train Xgboost tree model on GPU"
   ]
  },
  {
   "cell_type": "code",
   "execution_count": 12,
   "id": "ae5b293a-52f9-448a-adc3-d322f0ed5a36",
   "metadata": {
    "tags": []
   },
   "outputs": [],
   "source": [
    "# filter to expired loans issued since 2013\n",
    "loans = loans.loc[(loans.months_rem<0) & (loans.issue_d>'2013')]"
   ]
  },
  {
   "cell_type": "code",
   "execution_count": 13,
   "id": "3704396b-6fc2-436b-b1e5-74a05e6ddcab",
   "metadata": {
    "tags": []
   },
   "outputs": [
    {
     "data": {
      "text/plain": [
       "(633196, 85)"
      ]
     },
     "execution_count": 13,
     "metadata": {},
     "output_type": "execute_result"
    }
   ],
   "source": [
    "loans.shape"
   ]
  },
  {
   "cell_type": "code",
   "execution_count": 14,
   "id": "a9838c4e-21d5-4522-a7f7-252e3705c5d7",
   "metadata": {
    "tags": []
   },
   "outputs": [],
   "source": [
    "# known after loan issue, used to compare rates\n",
    "payments = [\n",
    "    'int_rate',\n",
    "    'total_rec_int', 'total_rec_prncp',\n",
    "    'total_pymnt', 'total_pymnt_inv',\n",
    "    'out_prncp', 'out_prncp_inv', \n",
    "    'total_rec_late_fee', 'recoveries', 'collection_recovery_fee',\n",
    "    'last_pymnt_amnt']"
   ]
  },
  {
   "cell_type": "code",
   "execution_count": 15,
   "id": "894ddb2d-1046-4170-9cb4-a6d50bb9233a",
   "metadata": {
    "tags": []
   },
   "outputs": [],
   "source": [
    "# helper cols not used in training\n",
    "extra = ['grade', 'sub_grade', 'issue_d', 'quarter', 'last_credit_pull_mths', 'months_rem']"
   ]
  },
  {
   "cell_type": "code",
   "execution_count": 16,
   "id": "4d5509f0-64e1-498d-8411-b34125a28871",
   "metadata": {
    "tags": []
   },
   "outputs": [],
   "source": [
    "# prepare train and test samples\n",
    "X = loans.loc[:, ~loans.columns.isin(payments + extra + ['choff'])]\n",
    "X = X.replace(np.inf, 0)\n",
    "\n",
    "y = loans.choff\n",
    "\n",
    "X_train, X_test, y_train, y_test = train_test_split(X, y, stratify=y, test_size=0.2, random_state=2)\n",
    "\n",
    "encoder = TargetEncoder()\n",
    "target_enc = ['purpose', 'home_ownership', 'verification_status']\n",
    "X_train[target_enc] = encoder.fit_transform(X_train[target_enc], y_train)\n",
    "X_test[target_enc] = encoder.transform(X_test[target_enc])\n",
    "\n",
    "dtrain = xgb.DMatrix(data=X_train, label=y_train, feature_names=X.columns)\n",
    "dtest = xgb.DMatrix(data=X_test, label=y_test, feature_names=X.columns)"
   ]
  },
  {
   "cell_type": "code",
   "execution_count": 17,
   "id": "cd3577a7-8faa-4c72-9b56-00c0f192d54b",
   "metadata": {
    "tags": []
   },
   "outputs": [
    {
     "data": {
      "text/plain": [
       "(506556, 68)"
      ]
     },
     "execution_count": 17,
     "metadata": {},
     "output_type": "execute_result"
    }
   ],
   "source": [
    "X_train.shape"
   ]
  },
  {
   "cell_type": "markdown",
   "id": "e795c2fd-647c-4e5d-9ede-6058a7a026d1",
   "metadata": {},
   "source": [
    "## Model config"
   ]
  },
  {
   "cell_type": "code",
   "execution_count": 18,
   "id": "b08e4c8d-2c7a-40e5-a14c-f2b528e1ee21",
   "metadata": {
    "tags": []
   },
   "outputs": [],
   "source": [
    "config = {\n",
    "    'eta': 0.01,\n",
    "    'max_depth': 5, \n",
    "    'objective': 'binary:logistic',\n",
    "    'tree_method': 'gpu_hist',\n",
    "    'eval_metric': 'logloss',\n",
    "    'scale_pos_weight': 1.0, \n",
    "    'colsample_bytree': 0.7, \n",
    "    'subsample': 0.7,\n",
    "    'reg_lambda': 50,\n",
    "    'gamma': 10,\n",
    "    'min_child_weight': 10}"
   ]
  },
  {
   "cell_type": "code",
   "execution_count": 19,
   "id": "18043403-0dee-4001-a1b3-84b50bc9c31d",
   "metadata": {
    "tags": []
   },
   "outputs": [],
   "source": [
    "# model train\n",
    "bst = xgb.train(config, dtrain, num_boost_round=5000, \n",
    "                evals=[(dtrain, 'train'), (dtest, 'eval')], \n",
    "                early_stopping_rounds=10, verbose_eval=0)"
   ]
  },
  {
   "cell_type": "markdown",
   "id": "9081ac27-083e-4039-a642-d73d96ee2605",
   "metadata": {},
   "source": [
    "## Model eval"
   ]
  },
  {
   "cell_type": "code",
   "execution_count": 20,
   "id": "f7f4d5a1-5128-4939-8e2d-08c64763fc79",
   "metadata": {
    "tags": []
   },
   "outputs": [
    {
     "name": "stdout",
     "output_type": "stream",
     "text": [
      "ROC AUC:  0.6945046935342196\n",
      "Logloss:  0.38929819932267107\n"
     ]
    }
   ],
   "source": [
    "y_pred_proba = bst.predict(dtest)\n",
    "roc_auc = roc_auc_score(y_test, y_pred_proba)\n",
    "logl = log_loss(y_test, y_pred_proba)\n",
    "print('ROC AUC: ', roc_auc)\n",
    "print('Logloss: ', logl)"
   ]
  },
  {
   "cell_type": "markdown",
   "id": "e09c4cbc-efdf-4f52-9249-d4a10c3fdadd",
   "metadata": {},
   "source": [
    "### Probability calibration\n",
    "\n",
    "* Calibrated probability will allow classifying loans into risk bins\n"
   ]
  },
  {
   "cell_type": "code",
   "execution_count": 21,
   "id": "bdbe1e60-0b09-4878-bacb-e44c51b8a4f6",
   "metadata": {
    "tags": []
   },
   "outputs": [
    {
     "data": {
      "text/plain": [
       "<sklearn.calibration.CalibrationDisplay at 0x14227fb3010>"
      ]
     },
     "execution_count": 21,
     "metadata": {},
     "output_type": "execute_result"
    },
    {
     "data": {
      "image/png": "[encoded data removed]",
      "text/plain": [
       "<Figure size 640x480 with 1 Axes>"
      ]
     },
     "metadata": {},
     "output_type": "display_data"
    }
   ],
   "source": [
    "fig, ax = plt.subplots()\n",
    "CalibrationDisplay.from_predictions(y_train, bst.predict(dtrain), strategy='uniform', n_bins=8, ax=ax, name='Train')\n",
    "CalibrationDisplay.from_predictions(y_test, bst.predict(dtest), strategy='uniform', n_bins=8, ax=ax, name='Test')\n"
   ]
  },
  {
   "cell_type": "markdown",
   "id": "6d1e6028-c0a6-459e-90c5-22a36e2aa0b8",
   "metadata": {},
   "source": [
    "### Probability distribution\n",
    "\n",
    "* Predicted probabilities are more left-skewed than LC sub-grade loan count would suggest"
   ]
  },
  {
   "cell_type": "code",
   "execution_count": 22,
   "id": "c4382f6d-bb35-457a-be4d-f31c6cc3b43b",
   "metadata": {
    "tags": []
   },
   "outputs": [
    {
     "data": {
      "text/plain": [
       "Text(0.5, 1.0, 'LC sub-grade loan count')"
      ]
     },
     "execution_count": 22,
     "metadata": {},
     "output_type": "execute_result"
    },
    {
     "data": {
      "image/png": "[encoded data removed]",
      "text/plain": [
       "<Figure size 1000x400 with 2 Axes>"
      ]
     },
     "metadata": {},
     "output_type": "display_data"
    }
   ],
   "source": [
    "fig, ax = plt.subplots(1, 2, figsize=(10, 4))\n",
    "ax[0].hist(y_pred_proba, bins=35);\n",
    "ax[0].set_title('Predicted default probability')\n",
    "loans.groupby('sub_grade').choff.count().plot.bar(ax=ax[1])\n",
    "ax[1].set_title('LC sub-grade loan count')"
   ]
  },
  {
   "cell_type": "markdown",
   "id": "9aef294b-6db1-422d-9243-368853870a17",
   "metadata": {},
   "source": [
    "### SHAP values\n",
    "\n",
    "* Most impactful features on model results"
   ]
  },
  {
   "cell_type": "code",
   "execution_count": 23,
   "id": "41752726-03f1-45da-814e-6855bcce9c56",
   "metadata": {
    "tags": []
   },
   "outputs": [],
   "source": [
    "shap_values_xgb = bst.predict(dtrain, pred_contribs=True)"
   ]
  },
  {
   "cell_type": "code",
   "execution_count": 24,
   "id": "22e9db25-b6f9-40d8-ae61-8d311e8f2bdb",
   "metadata": {
    "tags": []
   },
   "outputs": [
    {
     "data": {
      "image/png": "[encoded data removed]",
      "text/plain": [
       "<Figure size 800x800 with 1 Axes>"
      ]
     },
     "metadata": {},
     "output_type": "display_data"
    }
   ],
   "source": [
    "shap.summary_plot(\n",
    "    shap_values_xgb[:, :-1], X_train, \n",
    "    feature_names=dtrain.feature_names, plot_type=\"bar\",\n",
    "    plot_size=(8, 8))"
   ]
  },
  {
   "cell_type": "markdown",
   "id": "e986ab64-4314-493b-aa4b-5192ad830e46",
   "metadata": {},
   "source": [
    "### All SHAP values"
   ]
  },
  {
   "cell_type": "code",
   "execution_count": 25,
   "id": "660a0d3b-9355-4a16-b648-afbb5f1d379f",
   "metadata": {
    "tags": []
   },
   "outputs": [
    {
     "data": {
      "text/html": [
       "<style type=\"text/css\">\n",
       "</style>\n",
       "<table id=\"T_dd127\">\n",
       "  <thead>\n",
       "    <tr>\n",
       "      <th class=\"blank level0\" >&nbsp;</th>\n",
       "      <th id=\"T_dd127_level0_col0\" class=\"col_heading level0 col0\" >0</th>\n",
       "    </tr>\n",
       "  </thead>\n",
       "  <tbody>\n",
       "    <tr>\n",
       "      <th id=\"T_dd127_level0_row0\" class=\"row_heading level0 row0\" >fico</th>\n",
       "      <td id=\"T_dd127_row0_col0\" class=\"data row0 col0\" >96043.914062</td>\n",
       "    </tr>\n",
       "    <tr>\n",
       "      <th id=\"T_dd127_level0_row1\" class=\"row_heading level0 row1\" >lti</th>\n",
       "      <td id=\"T_dd127_row1_col0\" class=\"data row1 col0\" >74315.515625</td>\n",
       "    </tr>\n",
       "    <tr>\n",
       "      <th id=\"T_dd127_level0_row2\" class=\"row_heading level0 row2\" >dti</th>\n",
       "      <td id=\"T_dd127_row2_col0\" class=\"data row2 col0\" >63514.324219</td>\n",
       "    </tr>\n",
       "    <tr>\n",
       "      <th id=\"T_dd127_level0_row3\" class=\"row_heading level0 row3\" >acc_open_past_24mths</th>\n",
       "      <td id=\"T_dd127_row3_col0\" class=\"data row3 col0\" >61439.007812</td>\n",
       "    </tr>\n",
       "    <tr>\n",
       "      <th id=\"T_dd127_level0_row4\" class=\"row_heading level0 row4\" >last_acc</th>\n",
       "      <td id=\"T_dd127_row4_col0\" class=\"data row4 col0\" >46825.003906</td>\n",
       "    </tr>\n",
       "    <tr>\n",
       "      <th id=\"T_dd127_level0_row5\" class=\"row_heading level0 row5\" >term</th>\n",
       "      <td id=\"T_dd127_row5_col0\" class=\"data row5 col0\" >43257.050781</td>\n",
       "    </tr>\n",
       "    <tr>\n",
       "      <th id=\"T_dd127_level0_row6\" class=\"row_heading level0 row6\" >rec_acc_perc</th>\n",
       "      <td id=\"T_dd127_row6_col0\" class=\"data row6 col0\" >35527.753906</td>\n",
       "    </tr>\n",
       "    <tr>\n",
       "      <th id=\"T_dd127_level0_row7\" class=\"row_heading level0 row7\" >home_ownership</th>\n",
       "      <td id=\"T_dd127_row7_col0\" class=\"data row7 col0\" >33314.363281</td>\n",
       "    </tr>\n",
       "    <tr>\n",
       "      <th id=\"T_dd127_level0_row8\" class=\"row_heading level0 row8\" >purpose</th>\n",
       "      <td id=\"T_dd127_row8_col0\" class=\"data row8 col0\" >32683.675781</td>\n",
       "    </tr>\n",
       "    <tr>\n",
       "      <th id=\"T_dd127_level0_row9\" class=\"row_heading level0 row9\" >tot_hi_cred_lim</th>\n",
       "      <td id=\"T_dd127_row9_col0\" class=\"data row9 col0\" >27835.013672</td>\n",
       "    </tr>\n",
       "    <tr>\n",
       "      <th id=\"T_dd127_level0_row10\" class=\"row_heading level0 row10\" >percent_bc_gt_75</th>\n",
       "      <td id=\"T_dd127_row10_col0\" class=\"data row10 col0\" >26535.828125</td>\n",
       "    </tr>\n",
       "    <tr>\n",
       "      <th id=\"T_dd127_level0_row11\" class=\"row_heading level0 row11\" >bc_open_to_buy</th>\n",
       "      <td id=\"T_dd127_row11_col0\" class=\"data row11 col0\" >25472.527344</td>\n",
       "    </tr>\n",
       "    <tr>\n",
       "      <th id=\"T_dd127_level0_row12\" class=\"row_heading level0 row12\" >total_bc_limit</th>\n",
       "      <td id=\"T_dd127_row12_col0\" class=\"data row12 col0\" >24931.974609</td>\n",
       "    </tr>\n",
       "    <tr>\n",
       "      <th id=\"T_dd127_level0_row13\" class=\"row_heading level0 row13\" >rec_acc</th>\n",
       "      <td id=\"T_dd127_row13_col0\" class=\"data row13 col0\" >23070.167969</td>\n",
       "    </tr>\n",
       "    <tr>\n",
       "      <th id=\"T_dd127_level0_row14\" class=\"row_heading level0 row14\" >verification_status</th>\n",
       "      <td id=\"T_dd127_row14_col0\" class=\"data row14 col0\" >22202.900391</td>\n",
       "    </tr>\n",
       "    <tr>\n",
       "      <th id=\"T_dd127_level0_row15\" class=\"row_heading level0 row15\" >total_rev_hi_lim</th>\n",
       "      <td id=\"T_dd127_row15_col0\" class=\"data row15 col0\" >21728.232422</td>\n",
       "    </tr>\n",
       "    <tr>\n",
       "      <th id=\"T_dd127_level0_row16\" class=\"row_heading level0 row16\" >inq_last_6mths</th>\n",
       "      <td id=\"T_dd127_row16_col0\" class=\"data row16 col0\" >21553.068359</td>\n",
       "    </tr>\n",
       "    <tr>\n",
       "      <th id=\"T_dd127_level0_row17\" class=\"row_heading level0 row17\" >annual_inc</th>\n",
       "      <td id=\"T_dd127_row17_col0\" class=\"data row17 col0\" >19403.931641</td>\n",
       "    </tr>\n",
       "    <tr>\n",
       "      <th id=\"T_dd127_level0_row18\" class=\"row_heading level0 row18\" >funded_amnt</th>\n",
       "      <td id=\"T_dd127_row18_col0\" class=\"data row18 col0\" >18521.478516</td>\n",
       "    </tr>\n",
       "    <tr>\n",
       "      <th id=\"T_dd127_level0_row19\" class=\"row_heading level0 row19\" >state_i</th>\n",
       "      <td id=\"T_dd127_row19_col0\" class=\"data row19 col0\" >18416.923828</td>\n",
       "    </tr>\n",
       "    <tr>\n",
       "      <th id=\"T_dd127_level0_row20\" class=\"row_heading level0 row20\" >total_il_high_credit_limit</th>\n",
       "      <td id=\"T_dd127_row20_col0\" class=\"data row20 col0\" >16914.898438</td>\n",
       "    </tr>\n",
       "    <tr>\n",
       "      <th id=\"T_dd127_level0_row21\" class=\"row_heading level0 row21\" >bc_util</th>\n",
       "      <td id=\"T_dd127_row21_col0\" class=\"data row21 col0\" >16020.685547</td>\n",
       "    </tr>\n",
       "    <tr>\n",
       "      <th id=\"T_dd127_level0_row22\" class=\"row_heading level0 row22\" >emp_length</th>\n",
       "      <td id=\"T_dd127_row22_col0\" class=\"data row22 col0\" >14527.339844</td>\n",
       "    </tr>\n",
       "    <tr>\n",
       "      <th id=\"T_dd127_level0_row23\" class=\"row_heading level0 row23\" >last_delinq</th>\n",
       "      <td id=\"T_dd127_row23_col0\" class=\"data row23 col0\" >13114.817383</td>\n",
       "    </tr>\n",
       "    <tr>\n",
       "      <th id=\"T_dd127_level0_row24\" class=\"row_heading level0 row24\" >num_actv_bc_tl</th>\n",
       "      <td id=\"T_dd127_row24_col0\" class=\"data row24 col0\" >11524.538086</td>\n",
       "    </tr>\n",
       "    <tr>\n",
       "      <th id=\"T_dd127_level0_row25\" class=\"row_heading level0 row25\" >mort_acc</th>\n",
       "      <td id=\"T_dd127_row25_col0\" class=\"data row25 col0\" >11171.590820</td>\n",
       "    </tr>\n",
       "    <tr>\n",
       "      <th id=\"T_dd127_level0_row26\" class=\"row_heading level0 row26\" >revol_util</th>\n",
       "      <td id=\"T_dd127_row26_col0\" class=\"data row26 col0\" >10361.421875</td>\n",
       "    </tr>\n",
       "    <tr>\n",
       "      <th id=\"T_dd127_level0_row27\" class=\"row_heading level0 row27\" >num_bc_sats</th>\n",
       "      <td id=\"T_dd127_row27_col0\" class=\"data row27 col0\" >10135.052734</td>\n",
       "    </tr>\n",
       "    <tr>\n",
       "      <th id=\"T_dd127_level0_row28\" class=\"row_heading level0 row28\" >num_rev_tl_bal_gt_0</th>\n",
       "      <td id=\"T_dd127_row28_col0\" class=\"data row28 col0\" >9318.330078</td>\n",
       "    </tr>\n",
       "    <tr>\n",
       "      <th id=\"T_dd127_level0_row29\" class=\"row_heading level0 row29\" >avg_cur_bal</th>\n",
       "      <td id=\"T_dd127_row29_col0\" class=\"data row29 col0\" >9039.432617</td>\n",
       "    </tr>\n",
       "    <tr>\n",
       "      <th id=\"T_dd127_level0_row30\" class=\"row_heading level0 row30\" >pct_tl_nvr_dlq</th>\n",
       "      <td id=\"T_dd127_row30_col0\" class=\"data row30 col0\" >8887.878906</td>\n",
       "    </tr>\n",
       "    <tr>\n",
       "      <th id=\"T_dd127_level0_row31\" class=\"row_heading level0 row31\" >num_il_tl</th>\n",
       "      <td id=\"T_dd127_row31_col0\" class=\"data row31 col0\" >8831.153320</td>\n",
       "    </tr>\n",
       "    <tr>\n",
       "      <th id=\"T_dd127_level0_row32\" class=\"row_heading level0 row32\" >revol_bal</th>\n",
       "      <td id=\"T_dd127_row32_col0\" class=\"data row32 col0\" >8441.049805</td>\n",
       "    </tr>\n",
       "    <tr>\n",
       "      <th id=\"T_dd127_level0_row33\" class=\"row_heading level0 row33\" >old_acc</th>\n",
       "      <td id=\"T_dd127_row33_col0\" class=\"data row33 col0\" >8317.648438</td>\n",
       "    </tr>\n",
       "    <tr>\n",
       "      <th id=\"T_dd127_level0_row34\" class=\"row_heading level0 row34\" >earliest_cr_mths</th>\n",
       "      <td id=\"T_dd127_row34_col0\" class=\"data row34 col0\" >8297.098633</td>\n",
       "    </tr>\n",
       "    <tr>\n",
       "      <th id=\"T_dd127_level0_row35\" class=\"row_heading level0 row35\" >choffs</th>\n",
       "      <td id=\"T_dd127_row35_col0\" class=\"data row35 col0\" >7369.351074</td>\n",
       "    </tr>\n",
       "    <tr>\n",
       "      <th id=\"T_dd127_level0_row36\" class=\"row_heading level0 row36\" >sats_perc</th>\n",
       "      <td id=\"T_dd127_row36_col0\" class=\"data row36 col0\" >7054.937012</td>\n",
       "    </tr>\n",
       "    <tr>\n",
       "      <th id=\"T_dd127_level0_row37\" class=\"row_heading level0 row37\" >num_bc_tl</th>\n",
       "      <td id=\"T_dd127_row37_col0\" class=\"data row37 col0\" >5898.839355</td>\n",
       "    </tr>\n",
       "    <tr>\n",
       "      <th id=\"T_dd127_level0_row38\" class=\"row_heading level0 row38\" >zip_inc</th>\n",
       "      <td id=\"T_dd127_row38_col0\" class=\"data row38 col0\" >5762.263184</td>\n",
       "    </tr>\n",
       "    <tr>\n",
       "      <th id=\"T_dd127_level0_row39\" class=\"row_heading level0 row39\" >num_actv_rev_tl</th>\n",
       "      <td id=\"T_dd127_row39_col0\" class=\"data row39 col0\" >5598.107910</td>\n",
       "    </tr>\n",
       "    <tr>\n",
       "      <th id=\"T_dd127_level0_row40\" class=\"row_heading level0 row40\" >num_rev_accts</th>\n",
       "      <td id=\"T_dd127_row40_col0\" class=\"data row40 col0\" >4825.460938</td>\n",
       "    </tr>\n",
       "    <tr>\n",
       "      <th id=\"T_dd127_level0_row41\" class=\"row_heading level0 row41\" >total_acc</th>\n",
       "      <td id=\"T_dd127_row41_col0\" class=\"data row41 col0\" >4772.243164</td>\n",
       "    </tr>\n",
       "    <tr>\n",
       "      <th id=\"T_dd127_level0_row42\" class=\"row_heading level0 row42\" >tot_rec</th>\n",
       "      <td id=\"T_dd127_row42_col0\" class=\"data row42 col0\" >3702.491455</td>\n",
       "    </tr>\n",
       "    <tr>\n",
       "      <th id=\"T_dd127_level0_row43\" class=\"row_heading level0 row43\" >open_perc</th>\n",
       "      <td id=\"T_dd127_row43_col0\" class=\"data row43 col0\" >3227.312988</td>\n",
       "    </tr>\n",
       "    <tr>\n",
       "      <th id=\"T_dd127_level0_row44\" class=\"row_heading level0 row44\" >total_bal_ex_mort</th>\n",
       "      <td id=\"T_dd127_row44_col0\" class=\"data row44 col0\" >3105.694092</td>\n",
       "    </tr>\n",
       "    <tr>\n",
       "      <th id=\"T_dd127_level0_row45\" class=\"row_heading level0 row45\" >tot_cur_bal</th>\n",
       "      <td id=\"T_dd127_row45_col0\" class=\"data row45 col0\" >2001.820557</td>\n",
       "    </tr>\n",
       "    <tr>\n",
       "      <th id=\"T_dd127_level0_row46\" class=\"row_heading level0 row46\" >il_util</th>\n",
       "      <td id=\"T_dd127_row46_col0\" class=\"data row46 col0\" >1777.415771</td>\n",
       "    </tr>\n",
       "    <tr>\n",
       "      <th id=\"T_dd127_level0_row47\" class=\"row_heading level0 row47\" >inq_fi</th>\n",
       "      <td id=\"T_dd127_row47_col0\" class=\"data row47 col0\" >1583.689087</td>\n",
       "    </tr>\n",
       "    <tr>\n",
       "      <th id=\"T_dd127_level0_row48\" class=\"row_heading level0 row48\" >num_tl_op_past_12m</th>\n",
       "      <td id=\"T_dd127_row48_col0\" class=\"data row48 col0\" >1200.565674</td>\n",
       "    </tr>\n",
       "    <tr>\n",
       "      <th id=\"T_dd127_level0_row49\" class=\"row_heading level0 row49\" >rec_inq_perc</th>\n",
       "      <td id=\"T_dd127_row49_col0\" class=\"data row49 col0\" >714.557312</td>\n",
       "    </tr>\n",
       "    <tr>\n",
       "      <th id=\"T_dd127_level0_row50\" class=\"row_heading level0 row50\" >open_acc_6m</th>\n",
       "      <td id=\"T_dd127_row50_col0\" class=\"data row50 col0\" >714.517151</td>\n",
       "    </tr>\n",
       "    <tr>\n",
       "      <th id=\"T_dd127_level0_row51\" class=\"row_heading level0 row51\" >num_op_rev_tl</th>\n",
       "      <td id=\"T_dd127_row51_col0\" class=\"data row51 col0\" >425.388824</td>\n",
       "    </tr>\n",
       "    <tr>\n",
       "      <th id=\"T_dd127_level0_row52\" class=\"row_heading level0 row52\" >open_rv_24m</th>\n",
       "      <td id=\"T_dd127_row52_col0\" class=\"data row52 col0\" >312.850983</td>\n",
       "    </tr>\n",
       "    <tr>\n",
       "      <th id=\"T_dd127_level0_row53\" class=\"row_heading level0 row53\" >open_acc</th>\n",
       "      <td id=\"T_dd127_row53_col0\" class=\"data row53 col0\" >309.239960</td>\n",
       "    </tr>\n",
       "    <tr>\n",
       "      <th id=\"T_dd127_level0_row54\" class=\"row_heading level0 row54\" >all_util</th>\n",
       "      <td id=\"T_dd127_row54_col0\" class=\"data row54 col0\" >275.276001</td>\n",
       "    </tr>\n",
       "    <tr>\n",
       "      <th id=\"T_dd127_level0_row55\" class=\"row_heading level0 row55\" >due_acc</th>\n",
       "      <td id=\"T_dd127_row55_col0\" class=\"data row55 col0\" >265.519867</td>\n",
       "    </tr>\n",
       "    <tr>\n",
       "      <th id=\"T_dd127_level0_row56\" class=\"row_heading level0 row56\" >open_il_12m</th>\n",
       "      <td id=\"T_dd127_row56_col0\" class=\"data row56 col0\" >221.268036</td>\n",
       "    </tr>\n",
       "    <tr>\n",
       "      <th id=\"T_dd127_level0_row57\" class=\"row_heading level0 row57\" >num_sats</th>\n",
       "      <td id=\"T_dd127_row57_col0\" class=\"data row57 col0\" >133.200653</td>\n",
       "    </tr>\n",
       "    <tr>\n",
       "      <th id=\"T_dd127_level0_row58\" class=\"row_heading level0 row58\" >tot_coll_amt</th>\n",
       "      <td id=\"T_dd127_row58_col0\" class=\"data row58 col0\" >125.988144</td>\n",
       "    </tr>\n",
       "    <tr>\n",
       "      <th id=\"T_dd127_level0_row59\" class=\"row_heading level0 row59\" >inq_last_12m</th>\n",
       "      <td id=\"T_dd127_row59_col0\" class=\"data row59 col0\" >94.806221</td>\n",
       "    </tr>\n",
       "    <tr>\n",
       "      <th id=\"T_dd127_level0_row60\" class=\"row_heading level0 row60\" >open_il_24m</th>\n",
       "      <td id=\"T_dd127_row60_col0\" class=\"data row60 col0\" >84.204399</td>\n",
       "    </tr>\n",
       "    <tr>\n",
       "      <th id=\"T_dd127_level0_row61\" class=\"row_heading level0 row61\" >max_bal_bc</th>\n",
       "      <td id=\"T_dd127_row61_col0\" class=\"data row61 col0\" >77.203217</td>\n",
       "    </tr>\n",
       "    <tr>\n",
       "      <th id=\"T_dd127_level0_row62\" class=\"row_heading level0 row62\" >open_act_il</th>\n",
       "      <td id=\"T_dd127_row62_col0\" class=\"data row62 col0\" >57.538517</td>\n",
       "    </tr>\n",
       "    <tr>\n",
       "      <th id=\"T_dd127_level0_row63\" class=\"row_heading level0 row63\" >open_rv_12m</th>\n",
       "      <td id=\"T_dd127_row63_col0\" class=\"data row63 col0\" >50.725029</td>\n",
       "    </tr>\n",
       "    <tr>\n",
       "      <th id=\"T_dd127_level0_row64\" class=\"row_heading level0 row64\" >total_bal_il</th>\n",
       "      <td id=\"T_dd127_row64_col0\" class=\"data row64 col0\" >34.646847</td>\n",
       "    </tr>\n",
       "    <tr>\n",
       "      <th id=\"T_dd127_level0_row65\" class=\"row_heading level0 row65\" >total_cu_tl</th>\n",
       "      <td id=\"T_dd127_row65_col0\" class=\"data row65 col0\" >19.643110</td>\n",
       "    </tr>\n",
       "    <tr>\n",
       "      <th id=\"T_dd127_level0_row66\" class=\"row_heading level0 row66\" >delinq_amnt</th>\n",
       "      <td id=\"T_dd127_row66_col0\" class=\"data row66 col0\" >0.000000</td>\n",
       "    </tr>\n",
       "    <tr>\n",
       "      <th id=\"T_dd127_level0_row67\" class=\"row_heading level0 row67\" >acc_now_delinq</th>\n",
       "      <td id=\"T_dd127_row67_col0\" class=\"data row67 col0\" >0.000000</td>\n",
       "    </tr>\n",
       "  </tbody>\n",
       "</table>\n"
      ],
      "text/plain": [
       "<pandas.io.formats.style.Styler at 0x142240f55d0>"
      ]
     },
     "execution_count": 25,
     "metadata": {},
     "output_type": "execute_result"
    }
   ],
   "source": [
    "pd.DataFrame(\n",
    "    data=np.abs(shap_values_xgb[:, :-1]).sum(axis=0), \n",
    "    index=dtrain.feature_names)\\\n",
    ".sort_values(0)[::-1].style.format()"
   ]
  },
  {
   "cell_type": "code",
   "execution_count": 26,
   "id": "7e696cf5-88a1-4f9d-a42e-33ce84076884",
   "metadata": {
    "tags": []
   },
   "outputs": [],
   "source": [
    "bst.save_model('xgbooster.json')"
   ]
  },
  {
   "cell_type": "markdown",
   "id": "bb26a3c9-7c3e-48cc-b807-ba4620e35b5d",
   "metadata": {},
   "source": [
    "# Group loans into risk bins\n",
    "\n",
    "* LC loans classified into 7 grades [A, B, C, D, E, F, G] and them each grade into 5 sub-grades [1, 2, 3, 4, 5]\n",
    "\n",
    "* Try to replicate that but with 25 risk bins instead of 35"
   ]
  },
  {
   "cell_type": "code",
   "execution_count": 27,
   "id": "fd8eb425-6e2f-4a57-9f4d-b29c75454f23",
   "metadata": {
    "tags": []
   },
   "outputs": [],
   "source": [
    "# train sample risk prediction\n",
    "y_pred_train = bst.predict(dtrain)"
   ]
  },
  {
   "cell_type": "code",
   "execution_count": 28,
   "id": "0ccbc188-a1c2-4602-9893-c947b16a77e8",
   "metadata": {
    "tags": []
   },
   "outputs": [],
   "source": [
    "# add predicted prob to train sample\n",
    "loans_train = loans.loc[X_train.index]\n",
    "loans_train.loc[:, 'proba'] = y_pred_train"
   ]
  },
  {
   "cell_type": "code",
   "execution_count": 29,
   "id": "e7bc0e17-5947-4d4c-8e59-c1f89ab70021",
   "metadata": {
    "tags": []
   },
   "outputs": [],
   "source": [
    "loans_test = loans.loc[X_test.index]\n",
    "loans_test.loc[:, 'proba'] = y_pred_proba"
   ]
  },
  {
   "cell_type": "markdown",
   "id": "bf0f3df8-c272-4d7a-8b1c-906851278df7",
   "metadata": {},
   "source": [
    "## Grade bins\n",
    "\n",
    "* Set width to make grade sizes similar to LC"
   ]
  },
  {
   "cell_type": "code",
   "execution_count": 30,
   "id": "eb7c160e-d90f-4ebe-ba7b-44c62057c9bb",
   "metadata": {
    "tags": []
   },
   "outputs": [],
   "source": [
    "sbins = [\n",
    "    0, \n",
    "    0.04, 0.05, 0.06, 0.07, 0.08,\n",
    "    0.09, 0.10, 0.115, 0.13, 0.145,\n",
    "    0.16, 0.18, 0.20, 0.22, 0.24,\n",
    "    0.26, 0.28, 0.30, 0.32, 0.34, \n",
    "    0.36, 0.38, 0.4, 0.42, 1.0]\n",
    "\n",
    "gbins = [0, 0.08, 0.145, 0.24, 0.34, 1.0]"
   ]
  },
  {
   "cell_type": "code",
   "execution_count": 31,
   "id": "a58c22de-559a-4dba-a8d0-4ce2f6487a3f",
   "metadata": {
    "tags": []
   },
   "outputs": [],
   "source": [
    "grade_labels = ['A', 'B', 'C', 'D', 'E']\n",
    "# sub-grade labels\n",
    "labels = []\n",
    "for i in grade_labels:\n",
    "    for j in range(1, 6):\n",
    "        labels.append(i+str(j))"
   ]
  },
  {
   "cell_type": "code",
   "execution_count": 32,
   "id": "419d6de7-f260-4c11-a45a-607f2befb8fc",
   "metadata": {
    "tags": []
   },
   "outputs": [],
   "source": [
    "# train sample sub-grade labels\n",
    "subcut = pd.cut(loans_train.proba, sbins, labels=labels)\n",
    "loans_train['nsub_grade'] = subcut\n",
    "\n",
    "# train sample grade labels\n",
    "gcut = pd.cut(loans_train.proba, gbins, labels=grade_labels)\n",
    "loans_train['ngrade'] = gcut"
   ]
  },
  {
   "cell_type": "code",
   "execution_count": 33,
   "id": "5cf5148e-603a-471d-af83-c6be29127ef1",
   "metadata": {
    "tags": []
   },
   "outputs": [],
   "source": [
    "# test sample labels\n",
    "subcut = pd.cut(loans_test.proba, sbins, labels=labels)\n",
    "loans_test['nsub_grade'] = subcut\n",
    "\n",
    "gcut = pd.cut(loans_test.proba, gbins, labels=grade_labels)\n",
    "loans_test['ngrade'] = gcut"
   ]
  },
  {
   "cell_type": "markdown",
   "id": "6a8452ef-f214-4829-a50c-6af37f314f83",
   "metadata": {},
   "source": [
    "### Bin sizes\n",
    "\n",
    "* Number of loans in portfolio"
   ]
  },
  {
   "cell_type": "code",
   "execution_count": 34,
   "id": "f86d75c8-cedd-4e7c-bd90-fcbb40c5e7f3",
   "metadata": {
    "tags": []
   },
   "outputs": [
    {
     "data": {
      "text/html": [
       "<style type=\"text/css\">\n",
       "</style>\n",
       "<table id=\"T_a2c6b\">\n",
       "  <thead>\n",
       "    <tr>\n",
       "      <th class=\"blank level0\" >&nbsp;</th>\n",
       "      <th id=\"T_a2c6b_level0_col0\" class=\"col_heading level0 col0\" >lc_grades</th>\n",
       "      <th id=\"T_a2c6b_level0_col1\" class=\"col_heading level0 col1\" >new_train_grades</th>\n",
       "      <th id=\"T_a2c6b_level0_col2\" class=\"col_heading level0 col2\" >new_test_grades</th>\n",
       "    </tr>\n",
       "  </thead>\n",
       "  <tbody>\n",
       "    <tr>\n",
       "      <th id=\"T_a2c6b_level0_row0\" class=\"row_heading level0 row0\" >A</th>\n",
       "      <td id=\"T_a2c6b_row0_col0\" class=\"data row0 col0\" >0.213</td>\n",
       "      <td id=\"T_a2c6b_row0_col1\" class=\"data row0 col1\" >0.235</td>\n",
       "      <td id=\"T_a2c6b_row0_col2\" class=\"data row0 col2\" >0.235</td>\n",
       "    </tr>\n",
       "    <tr>\n",
       "      <th id=\"T_a2c6b_level0_row1\" class=\"row_heading level0 row1\" >B</th>\n",
       "      <td id=\"T_a2c6b_row1_col0\" class=\"data row1 col0\" >0.325</td>\n",
       "      <td id=\"T_a2c6b_row1_col1\" class=\"data row1 col1\" >0.331</td>\n",
       "      <td id=\"T_a2c6b_row1_col2\" class=\"data row1 col2\" >0.331</td>\n",
       "    </tr>\n",
       "    <tr>\n",
       "      <th id=\"T_a2c6b_level0_row2\" class=\"row_heading level0 row2\" >C</th>\n",
       "      <td id=\"T_a2c6b_row2_col0\" class=\"data row2 col0\" >0.274</td>\n",
       "      <td id=\"T_a2c6b_row2_col1\" class=\"data row2 col1\" >0.285</td>\n",
       "      <td id=\"T_a2c6b_row2_col2\" class=\"data row2 col2\" >0.286</td>\n",
       "    </tr>\n",
       "    <tr>\n",
       "      <th id=\"T_a2c6b_level0_row3\" class=\"row_heading level0 row3\" >D</th>\n",
       "      <td id=\"T_a2c6b_row3_col0\" class=\"data row3 col0\" >0.127</td>\n",
       "      <td id=\"T_a2c6b_row3_col1\" class=\"data row3 col1\" >0.113</td>\n",
       "      <td id=\"T_a2c6b_row3_col2\" class=\"data row3 col2\" >0.112</td>\n",
       "    </tr>\n",
       "    <tr>\n",
       "      <th id=\"T_a2c6b_level0_row4\" class=\"row_heading level0 row4\" >E</th>\n",
       "      <td id=\"T_a2c6b_row4_col0\" class=\"data row4 col0\" >0.045</td>\n",
       "      <td id=\"T_a2c6b_row4_col1\" class=\"data row4 col1\" >0.036</td>\n",
       "      <td id=\"T_a2c6b_row4_col2\" class=\"data row4 col2\" >0.036</td>\n",
       "    </tr>\n",
       "    <tr>\n",
       "      <th id=\"T_a2c6b_level0_row5\" class=\"row_heading level0 row5\" >F</th>\n",
       "      <td id=\"T_a2c6b_row5_col0\" class=\"data row5 col0\" >0.013</td>\n",
       "      <td id=\"T_a2c6b_row5_col1\" class=\"data row5 col1\" >nan</td>\n",
       "      <td id=\"T_a2c6b_row5_col2\" class=\"data row5 col2\" >nan</td>\n",
       "    </tr>\n",
       "    <tr>\n",
       "      <th id=\"T_a2c6b_level0_row6\" class=\"row_heading level0 row6\" >G</th>\n",
       "      <td id=\"T_a2c6b_row6_col0\" class=\"data row6 col0\" >0.002</td>\n",
       "      <td id=\"T_a2c6b_row6_col1\" class=\"data row6 col1\" >nan</td>\n",
       "      <td id=\"T_a2c6b_row6_col2\" class=\"data row6 col2\" >nan</td>\n",
       "    </tr>\n",
       "  </tbody>\n",
       "</table>\n"
      ],
      "text/plain": [
       "<pandas.io.formats.style.Styler at 0x14227d7f790>"
      ]
     },
     "execution_count": 34,
     "metadata": {},
     "output_type": "execute_result"
    }
   ],
   "source": [
    "train_size = loans_train.groupby('ngrade').choff.count() / loans_train.shape[0]\n",
    "train_size.name = 'new_train_grades'\n",
    "test_size = loans_test.groupby('ngrade').choff.count() / loans_test.shape[0]\n",
    "test_size.name = 'new_test_grades'\n",
    "\n",
    "g_size = loans_train.groupby('grade').choff.count() / loans_train.shape[0]\n",
    "g_size.name = 'lc_grades'\n",
    "pd.concat([g_size, train_size, test_size], axis=1).style.format(precision=3)"
   ]
  },
  {
   "cell_type": "markdown",
   "id": "4a696ef0-4945-4aed-bb35-2326f4ccd967",
   "metadata": {},
   "source": [
    "## Sub-grade actual v predicted default probability\n",
    "\n",
    "* Predicted probability on train sample slightly underestimates default probability for C4 and above loans\n",
    "\n",
    "* More work on hyperparameter tuning and feature selection is likely to produce better calibration"
   ]
  },
  {
   "cell_type": "code",
   "execution_count": 35,
   "id": "98374afe-aba3-4ce7-8fab-65ba7c231140",
   "metadata": {
    "tags": []
   },
   "outputs": [],
   "source": [
    "train_subg = loans_train.groupby('nsub_grade').apply(lambda x: pd.Series([x.choff.mean(), x.proba.mean()], index=['train_true', 'train_pred']))\n",
    "train_lcsubg = loans_train.groupby('sub_grade').choff.mean()\n",
    "train_lcsubg.name = 'train_lc_true'\n",
    "train_subg = train_subg.join(train_lcsubg, how='right')\n",
    "test_subg = loans_test.groupby('nsub_grade').apply(lambda x: pd.Series([x.choff.mean(), x.proba.mean()], index=['test_true', 'test_pred']))"
   ]
  },
  {
   "cell_type": "code",
   "execution_count": 36,
   "id": "2cbd5dc6-bead-47cc-9e28-19bd0935625f",
   "metadata": {
    "tags": []
   },
   "outputs": [
    {
     "data": {
      "text/plain": [
       "<Axes: xlabel='sub_grade'>"
      ]
     },
     "execution_count": 36,
     "metadata": {},
     "output_type": "execute_result"
    },
    {
     "data": {
      "image/png": "[encoded data removed]",
      "text/plain": [
       "<Figure size 1000x400 with 1 Axes>"
      ]
     },
     "metadata": {},
     "output_type": "display_data"
    }
   ],
   "source": [
    "fig, ax = plt.subplots(figsize=(10, 4))\n",
    "train_subg.plot.bar(ax=ax)"
   ]
  },
  {
   "cell_type": "code",
   "execution_count": 37,
   "id": "08872704-3142-4d6b-ba1a-04b8d22aba97",
   "metadata": {
    "tags": []
   },
   "outputs": [],
   "source": [
    "test_subg = loans_test.groupby('nsub_grade').apply(lambda x: pd.Series([x.choff.mean(), x.proba.mean()], index=['test_true', 'test_pred']))\n",
    "test_lcsubg = loans_test.groupby('sub_grade').choff.mean()\n",
    "test_lcsubg.name = 'test_lc_true'\n",
    "test_subg = test_subg.join(test_lcsubg, how='right')"
   ]
  },
  {
   "cell_type": "code",
   "execution_count": 38,
   "id": "8de5a904-89ce-421b-9682-9e3b5ed25986",
   "metadata": {
    "tags": []
   },
   "outputs": [
    {
     "data": {
      "text/plain": [
       "<Axes: xlabel='sub_grade'>"
      ]
     },
     "execution_count": 38,
     "metadata": {},
     "output_type": "execute_result"
    },
    {
     "data": {
      "image/png": "[encoded data removed]",
      "text/plain": [
       "<Figure size 1000x400 with 1 Axes>"
      ]
     },
     "metadata": {},
     "output_type": "display_data"
    }
   ],
   "source": [
    "fig, ax = plt.subplots(figsize=(10, 4))\n",
    "test_subg.plot.bar(ax=ax)"
   ]
  },
  {
   "cell_type": "markdown",
   "id": "90b6e5b8-b6da-4983-a0e7-dc2acba4a258",
   "metadata": {},
   "source": [
    "### US historic charge-off rates\n",
    "\n",
    "* Model is trained on a sample of loans that were active during a period of low charge-offs\n",
    "\n",
    "* Which could be one of the reasons why model resulted in a more left-skewed probability distribution"
   ]
  },
  {
   "cell_type": "code",
   "execution_count": 39,
   "id": "f1b7d255-a06a-4978-b15b-0b1236c814f2",
   "metadata": {
    "tags": []
   },
   "outputs": [
    {
     "data": {
      "image/png": "[encoded data removed]",
      "text/plain": [
       "<Figure size 640x480 with 1 Axes>"
      ]
     },
     "metadata": {},
     "output_type": "display_data"
    }
   ],
   "source": [
    "# charge-off rate\n",
    "cor = pd.read_csv('../CORCCACBS.csv')\n",
    "cor['DATE'] = pd.to_datetime(cor['DATE'])\n",
    "cor = cor.groupby(cor.DATE.dt.to_period('M')).CORCCACBS.mean()\n",
    "cor = cor.loc[(cor.index<'2019') & (cor.index>'2007-06')]\n",
    "fig, ax = plt.subplots()\n",
    "cor.plot(ax=ax)\n",
    "delinq = pd.read_csv('../DRCCLACBS.csv')\n",
    "delinq['DATE'] = pd.to_datetime(delinq['DATE']).dt.to_period('Q')\n",
    "delinq = delinq.loc[delinq['DATE']>'2007-06-01']\n",
    "delinq.set_index('DATE', inplace=True)\n",
    "delinq.plot(ax=ax)\n",
    "ax.legend(labels=['Charge-off rate', 'Delinquency rate'])\n",
    "ax.grid(visible=True, axis='both')"
   ]
  },
  {
   "cell_type": "markdown",
   "id": "83758db4-a92f-4902-985f-2770716bd339",
   "metadata": {},
   "source": [
    "## New sub-grade composition of original LC sub-grades\n",
    "\n",
    "* Number of LC classification loans in each newly assigned subgrade. "
   ]
  },
  {
   "cell_type": "code",
   "execution_count": 40,
   "id": "cf6f3871-6d51-4ca0-b414-eefbae2bb62d",
   "metadata": {
    "tags": []
   },
   "outputs": [
    {
     "data": {
      "image/png": "[encoded data removed]",
      "text/plain": [
       "<Figure size 640x480 with 25 Axes>"
      ]
     },
     "metadata": {},
     "output_type": "display_data"
    }
   ],
   "source": [
    "fig, axes = plt.subplots(5, 5)\n",
    "\n",
    "for ax, label in zip(axes.flatten(), labels):\n",
    "    sns.countplot(data=loans_test.loc[loans_test.nsub_grade==label], x='sub_grade', order=labels, palette='GnBu_d', ax=ax)\n",
    "    ax.set_xticks([])\n",
    "    ax.set_yticks([])\n",
    "    ax.set_xlabel(label)\n",
    "    ax.set_ylabel('')\n",
    "fig.suptitle('Composition of new grades');"
   ]
  },
  {
   "cell_type": "code",
   "execution_count": null,
   "id": "96d6575d-8fd0-453d-a6bb-977197cf902c",
   "metadata": {},
   "outputs": [],
   "source": []
  },
  {
   "cell_type": "code",
   "execution_count": 41,
   "id": "c6991fe9-a203-4df3-ae52-6908cf24b44a",
   "metadata": {
    "tags": []
   },
   "outputs": [],
   "source": [
    "# % principal outstanding\n",
    "loans_train.loc[loans_train.choff==1, 'exposure'] = 1 -\\\n",
    "(loans_train.loc[loans_train.choff==1, ['total_rec_int', 'total_rec_prncp']].sum(axis=1) \\\n",
    "/ loans_train.loc[loans_train.choff==1, 'funded_amnt'])\n",
    "\n",
    "loans_test.loc[loans_test.choff==1, 'exposure'] = 1 -\\\n",
    "(loans_test.loc[loans_test.choff==1, ['total_rec_int', 'total_rec_prncp']].sum(axis=1) \\\n",
    "/ loans_test.loc[loans_test.choff==1, 'funded_amnt'])"
   ]
  },
  {
   "cell_type": "markdown",
   "id": "a92e6990-29e4-4c7f-ba1f-f2e5277df7a9",
   "metadata": {},
   "source": [
    "# Setting minimum interest rate\n",
    "\n",
    "* Find interest rate so that probability of losing money on a loan portfolio is less than 1%\n",
    "\n",
    "    * $ Pr (S < 0) = 0.01$\n",
    "    \n",
    "    * where standard error $SE[S] = \\sqrt{np(1-p)}$, \n",
    "    \n",
    "    * loan revenue can be found $x = - l \\dfrac{ np  - z \\sqrt{np(1-p)}}{n(1-p) + z \\sqrt{np(1-p)}}$\n",
    "\n",
    "    \n",
    "* Important parameters that are used to estimate rate:\n",
    "\n",
    "    * `rf` - annuity discount rate, that I arbitrarily set at 4%\n",
    "    \n",
    "    * `n` - number of loans in a portfolio, set at 500\n",
    "    \n",
    "    * `ead` - principal outstanding at default, estimated from historical data for each grade"
   ]
  },
  {
   "cell_type": "code",
   "execution_count": 42,
   "id": "089dc89c-52c8-47cf-9516-b60903f001ed",
   "metadata": {
    "tags": []
   },
   "outputs": [],
   "source": [
    "@njit\n",
    "def emi(P, n, r):   \n",
    "    # equated monthly instalment\n",
    "    return P * (r * ((1 + r) ** n)) / ((1 + r) ** n - 1)\n",
    "\n",
    "@njit\n",
    "def apv(EMI, r, n):\n",
    "    # annuity present value\n",
    "    return EMI * (1 - (1 / ((1 + r)**n))) / r\n",
    "\n",
    "@njit\n",
    "def npv(P, t, r, rf):\n",
    "    # net present value of annuity\n",
    "    EMI = emi(P, t, r)\n",
    "    APV = apv(EMI, rf, t)\n",
    "    return -P + APV"
   ]
  },
  {
   "cell_type": "code",
   "execution_count": 43,
   "id": "8153aace-0a51-4c27-b69a-982e9fa29074",
   "metadata": {
    "tags": []
   },
   "outputs": [],
   "source": [
    "def min_rate(x, p, ead_p,  rf):\n",
    "    \"\"\"\n",
    "    Given default rate estimate required interest rate so that\n",
    "    discounted value of 500 loan portfolio has less than 1% chance of being negative\n",
    "    \"\"\"\n",
    "    P = 1  # principal amnt\n",
    "    n = 500  # number of loans\n",
    "    \n",
    "    z = scipy.stats.norm.ppf(0.01)\n",
    "    adj = ( n*p - z*np.sqrt(n*p*(1-p)))/ ( n*(1-p) + z*np.sqrt(n*p*(1-p)))\n",
    "    RR = ead_p * adj  # required return\n",
    "    \n",
    "    # scalar optimization to find r\n",
    "    obj_func = lambda r: np.abs(-RR + npv(P, x.term.values, r/12, rf/12).mean())\n",
    "    \n",
    "    res = opt.minimize_scalar(obj_func, method='bounded', bounds=(0.01, 1.0))    \n",
    "    return res"
   ]
  },
  {
   "cell_type": "code",
   "execution_count": 44,
   "id": "6152817e-53ac-4d5f-a49f-053724c9502c",
   "metadata": {
    "tags": []
   },
   "outputs": [],
   "source": [
    "\"\"\"\n",
    "Estimate interest rate for each newly assigned sub-grade\n",
    "\"\"\"\n",
    "rf = 0.04  # discount rate annual\n",
    "rates = {}\n",
    "# exposure at default\n",
    "ead = loans_train.groupby('ngrade').exposure.mean()\n",
    "\n",
    "for k, p in loans_train.groupby('nsub_grade').proba.mean().items():\n",
    "    slc = loans_train.loc[loans_train.nsub_grade==k]\n",
    "    ead_p = ead[k[0]]\n",
    "    rates[k] = min_rate(slc, p, ead_p, rf).x"
   ]
  },
  {
   "cell_type": "code",
   "execution_count": 45,
   "id": "2302504e-37d4-4d90-baad-da5d6da77e26",
   "metadata": {
    "tags": []
   },
   "outputs": [
    {
     "data": {
      "text/plain": [
       "{'A1': 5.4,\n",
       " 'A2': 6.0,\n",
       " 'A3': 6.4,\n",
       " 'A4': 6.8,\n",
       " 'A5': 7.1,\n",
       " 'B1': 7.5,\n",
       " 'B2': 7.9,\n",
       " 'B3': 8.4,\n",
       " 'B4': 9.0,\n",
       " 'B5': 9.6,\n",
       " 'C1': 10.3,\n",
       " 'C2': 11.1,\n",
       " 'C3': 11.9,\n",
       " 'C4': 12.8,\n",
       " 'C5': 13.6,\n",
       " 'D1': 14.7,\n",
       " 'D2': 15.6,\n",
       " 'D3': 16.6,\n",
       " 'D4': 17.4,\n",
       " 'D5': 18.4,\n",
       " 'E1': 19.6,\n",
       " 'E2': 20.4,\n",
       " 'E3': 21.4,\n",
       " 'E4': 22.5,\n",
       " 'E5': 25.5}"
      ]
     },
     "execution_count": 45,
     "metadata": {},
     "output_type": "execute_result"
    }
   ],
   "source": [
    "{k: round(v*100, 1) for k,v in rates.items()}"
   ]
  },
  {
   "cell_type": "markdown",
   "id": "8a20f9f8-708d-40ab-80f8-720998db3d66",
   "metadata": {},
   "source": [
    "## Compare new rates with original LC rates\n",
    "\n",
    "* Estimated rates are somewhat similar original LC rates\n",
    "\n",
    "* Rates offered by LC are also influenced by demand allowing larger premiums"
   ]
  },
  {
   "cell_type": "code",
   "execution_count": 46,
   "id": "2e57d425-5334-4295-ab89-5524feac7c8f",
   "metadata": {
    "tags": []
   },
   "outputs": [],
   "source": [
    "ogrates = loans_test.groupby('sub_grade').int_rate.mean()\n",
    "nrates = pd.DataFrame.from_dict(rates, orient='index', columns=['nrate'])\n",
    "rcomp = pd.concat([ogrates/100, nrates], axis=1)\n",
    "rcomp['d'] = rcomp.nrate - rcomp.int_rate"
   ]
  },
  {
   "cell_type": "code",
   "execution_count": 47,
   "id": "41368683-8b4a-438a-abc0-a6f655bd931b",
   "metadata": {
    "tags": []
   },
   "outputs": [
    {
     "data": {
      "text/plain": [
       "Text(0.5, 1.0, 'Interest rates')"
      ]
     },
     "execution_count": 47,
     "metadata": {},
     "output_type": "execute_result"
    },
    {
     "data": {
      "image/png": "[encoded data removed]",
      "text/plain": [
       "<Figure size 640x480 with 1 Axes>"
      ]
     },
     "metadata": {},
     "output_type": "display_data"
    }
   ],
   "source": [
    "rcomp[['int_rate', 'nrate']].plot.bar()\n",
    "plt.legend(labels=['lc_rate', 'nrate'])\n",
    "plt.title('Interest rates')"
   ]
  },
  {
   "cell_type": "code",
   "execution_count": 48,
   "id": "48efff57-956b-42f1-87cc-b6e369a088a7",
   "metadata": {
    "tags": []
   },
   "outputs": [
    {
     "data": {
      "text/html": [
       "<style type=\"text/css\">\n",
       "</style>\n",
       "<table id=\"T_44c8b\">\n",
       "  <thead>\n",
       "    <tr>\n",
       "      <th class=\"blank level0\" >&nbsp;</th>\n",
       "      <th id=\"T_44c8b_level0_col0\" class=\"col_heading level0 col0\" >int_rate</th>\n",
       "      <th id=\"T_44c8b_level0_col1\" class=\"col_heading level0 col1\" >nrate</th>\n",
       "      <th id=\"T_44c8b_level0_col2\" class=\"col_heading level0 col2\" >d</th>\n",
       "    </tr>\n",
       "  </thead>\n",
       "  <tbody>\n",
       "    <tr>\n",
       "      <th id=\"T_44c8b_level0_row0\" class=\"row_heading level0 row0\" >A1</th>\n",
       "      <td id=\"T_44c8b_row0_col0\" class=\"data row0 col0\" >5.6</td>\n",
       "      <td id=\"T_44c8b_row0_col1\" class=\"data row0 col1\" >5.4</td>\n",
       "      <td id=\"T_44c8b_row0_col2\" class=\"data row0 col2\" >-0.2</td>\n",
       "    </tr>\n",
       "    <tr>\n",
       "      <th id=\"T_44c8b_level0_row1\" class=\"row_heading level0 row1\" >A2</th>\n",
       "      <td id=\"T_44c8b_row1_col0\" class=\"data row1 col0\" >6.4</td>\n",
       "      <td id=\"T_44c8b_row1_col1\" class=\"data row1 col1\" >6.0</td>\n",
       "      <td id=\"T_44c8b_row1_col2\" class=\"data row1 col2\" >-0.4</td>\n",
       "    </tr>\n",
       "    <tr>\n",
       "      <th id=\"T_44c8b_level0_row2\" class=\"row_heading level0 row2\" >A3</th>\n",
       "      <td id=\"T_44c8b_row2_col0\" class=\"data row2 col0\" >7.1</td>\n",
       "      <td id=\"T_44c8b_row2_col1\" class=\"data row2 col1\" >6.4</td>\n",
       "      <td id=\"T_44c8b_row2_col2\" class=\"data row2 col2\" >-0.7</td>\n",
       "    </tr>\n",
       "    <tr>\n",
       "      <th id=\"T_44c8b_level0_row3\" class=\"row_heading level0 row3\" >A4</th>\n",
       "      <td id=\"T_44c8b_row3_col0\" class=\"data row3 col0\" >7.5</td>\n",
       "      <td id=\"T_44c8b_row3_col1\" class=\"data row3 col1\" >6.8</td>\n",
       "      <td id=\"T_44c8b_row3_col2\" class=\"data row3 col2\" >-0.7</td>\n",
       "    </tr>\n",
       "    <tr>\n",
       "      <th id=\"T_44c8b_level0_row4\" class=\"row_heading level0 row4\" >A5</th>\n",
       "      <td id=\"T_44c8b_row4_col0\" class=\"data row4 col0\" >8.2</td>\n",
       "      <td id=\"T_44c8b_row4_col1\" class=\"data row4 col1\" >7.1</td>\n",
       "      <td id=\"T_44c8b_row4_col2\" class=\"data row4 col2\" >-1.1</td>\n",
       "    </tr>\n",
       "    <tr>\n",
       "      <th id=\"T_44c8b_level0_row5\" class=\"row_heading level0 row5\" >B1</th>\n",
       "      <td id=\"T_44c8b_row5_col0\" class=\"data row5 col0\" >8.9</td>\n",
       "      <td id=\"T_44c8b_row5_col1\" class=\"data row5 col1\" >7.5</td>\n",
       "      <td id=\"T_44c8b_row5_col2\" class=\"data row5 col2\" >-1.3</td>\n",
       "    </tr>\n",
       "    <tr>\n",
       "      <th id=\"T_44c8b_level0_row6\" class=\"row_heading level0 row6\" >B2</th>\n",
       "      <td id=\"T_44c8b_row6_col0\" class=\"data row6 col0\" >9.9</td>\n",
       "      <td id=\"T_44c8b_row6_col1\" class=\"data row6 col1\" >7.9</td>\n",
       "      <td id=\"T_44c8b_row6_col2\" class=\"data row6 col2\" >-2.0</td>\n",
       "    </tr>\n",
       "    <tr>\n",
       "      <th id=\"T_44c8b_level0_row7\" class=\"row_heading level0 row7\" >B3</th>\n",
       "      <td id=\"T_44c8b_row7_col0\" class=\"data row7 col0\" >10.7</td>\n",
       "      <td id=\"T_44c8b_row7_col1\" class=\"data row7 col1\" >8.4</td>\n",
       "      <td id=\"T_44c8b_row7_col2\" class=\"data row7 col2\" >-2.4</td>\n",
       "    </tr>\n",
       "    <tr>\n",
       "      <th id=\"T_44c8b_level0_row8\" class=\"row_heading level0 row8\" >B4</th>\n",
       "      <td id=\"T_44c8b_row8_col0\" class=\"data row8 col0\" >11.7</td>\n",
       "      <td id=\"T_44c8b_row8_col1\" class=\"data row8 col1\" >9.0</td>\n",
       "      <td id=\"T_44c8b_row8_col2\" class=\"data row8 col2\" >-2.7</td>\n",
       "    </tr>\n",
       "    <tr>\n",
       "      <th id=\"T_44c8b_level0_row9\" class=\"row_heading level0 row9\" >B5</th>\n",
       "      <td id=\"T_44c8b_row9_col0\" class=\"data row9 col0\" >12.1</td>\n",
       "      <td id=\"T_44c8b_row9_col1\" class=\"data row9 col1\" >9.6</td>\n",
       "      <td id=\"T_44c8b_row9_col2\" class=\"data row9 col2\" >-2.6</td>\n",
       "    </tr>\n",
       "    <tr>\n",
       "      <th id=\"T_44c8b_level0_row10\" class=\"row_heading level0 row10\" >C1</th>\n",
       "      <td id=\"T_44c8b_row10_col0\" class=\"data row10 col0\" >12.8</td>\n",
       "      <td id=\"T_44c8b_row10_col1\" class=\"data row10 col1\" >10.3</td>\n",
       "      <td id=\"T_44c8b_row10_col2\" class=\"data row10 col2\" >-2.5</td>\n",
       "    </tr>\n",
       "    <tr>\n",
       "      <th id=\"T_44c8b_level0_row11\" class=\"row_heading level0 row11\" >C2</th>\n",
       "      <td id=\"T_44c8b_row11_col0\" class=\"data row11 col0\" >13.4</td>\n",
       "      <td id=\"T_44c8b_row11_col1\" class=\"data row11 col1\" >11.1</td>\n",
       "      <td id=\"T_44c8b_row11_col2\" class=\"data row11 col2\" >-2.3</td>\n",
       "    </tr>\n",
       "    <tr>\n",
       "      <th id=\"T_44c8b_level0_row12\" class=\"row_heading level0 row12\" >C3</th>\n",
       "      <td id=\"T_44c8b_row12_col0\" class=\"data row12 col0\" >14.1</td>\n",
       "      <td id=\"T_44c8b_row12_col1\" class=\"data row12 col1\" >11.9</td>\n",
       "      <td id=\"T_44c8b_row12_col2\" class=\"data row12 col2\" >-2.2</td>\n",
       "    </tr>\n",
       "    <tr>\n",
       "      <th id=\"T_44c8b_level0_row13\" class=\"row_heading level0 row13\" >C4</th>\n",
       "      <td id=\"T_44c8b_row13_col0\" class=\"data row13 col0\" >14.7</td>\n",
       "      <td id=\"T_44c8b_row13_col1\" class=\"data row13 col1\" >12.8</td>\n",
       "      <td id=\"T_44c8b_row13_col2\" class=\"data row13 col2\" >-2.0</td>\n",
       "    </tr>\n",
       "    <tr>\n",
       "      <th id=\"T_44c8b_level0_row14\" class=\"row_heading level0 row14\" >C5</th>\n",
       "      <td id=\"T_44c8b_row14_col0\" class=\"data row14 col0\" >15.4</td>\n",
       "      <td id=\"T_44c8b_row14_col1\" class=\"data row14 col1\" >13.6</td>\n",
       "      <td id=\"T_44c8b_row14_col2\" class=\"data row14 col2\" >-1.8</td>\n",
       "    </tr>\n",
       "    <tr>\n",
       "      <th id=\"T_44c8b_level0_row15\" class=\"row_heading level0 row15\" >D1</th>\n",
       "      <td id=\"T_44c8b_row15_col0\" class=\"data row15 col0\" >16.2</td>\n",
       "      <td id=\"T_44c8b_row15_col1\" class=\"data row15 col1\" >14.7</td>\n",
       "      <td id=\"T_44c8b_row15_col2\" class=\"data row15 col2\" >-1.5</td>\n",
       "    </tr>\n",
       "    <tr>\n",
       "      <th id=\"T_44c8b_level0_row16\" class=\"row_heading level0 row16\" >D2</th>\n",
       "      <td id=\"T_44c8b_row16_col0\" class=\"data row16 col0\" >17.0</td>\n",
       "      <td id=\"T_44c8b_row16_col1\" class=\"data row16 col1\" >15.6</td>\n",
       "      <td id=\"T_44c8b_row16_col2\" class=\"data row16 col2\" >-1.4</td>\n",
       "    </tr>\n",
       "    <tr>\n",
       "      <th id=\"T_44c8b_level0_row17\" class=\"row_heading level0 row17\" >D3</th>\n",
       "      <td id=\"T_44c8b_row17_col0\" class=\"data row17 col0\" >17.5</td>\n",
       "      <td id=\"T_44c8b_row17_col1\" class=\"data row17 col1\" >16.6</td>\n",
       "      <td id=\"T_44c8b_row17_col2\" class=\"data row17 col2\" >-1.0</td>\n",
       "    </tr>\n",
       "    <tr>\n",
       "      <th id=\"T_44c8b_level0_row18\" class=\"row_heading level0 row18\" >D4</th>\n",
       "      <td id=\"T_44c8b_row18_col0\" class=\"data row18 col0\" >18.2</td>\n",
       "      <td id=\"T_44c8b_row18_col1\" class=\"data row18 col1\" >17.4</td>\n",
       "      <td id=\"T_44c8b_row18_col2\" class=\"data row18 col2\" >-0.8</td>\n",
       "    </tr>\n",
       "    <tr>\n",
       "      <th id=\"T_44c8b_level0_row19\" class=\"row_heading level0 row19\" >D5</th>\n",
       "      <td id=\"T_44c8b_row19_col0\" class=\"data row19 col0\" >18.8</td>\n",
       "      <td id=\"T_44c8b_row19_col1\" class=\"data row19 col1\" >18.4</td>\n",
       "      <td id=\"T_44c8b_row19_col2\" class=\"data row19 col2\" >-0.3</td>\n",
       "    </tr>\n",
       "    <tr>\n",
       "      <th id=\"T_44c8b_level0_row20\" class=\"row_heading level0 row20\" >E1</th>\n",
       "      <td id=\"T_44c8b_row20_col0\" class=\"data row20 col0\" >19.2</td>\n",
       "      <td id=\"T_44c8b_row20_col1\" class=\"data row20 col1\" >19.6</td>\n",
       "      <td id=\"T_44c8b_row20_col2\" class=\"data row20 col2\" >0.4</td>\n",
       "    </tr>\n",
       "    <tr>\n",
       "      <th id=\"T_44c8b_level0_row21\" class=\"row_heading level0 row21\" >E2</th>\n",
       "      <td id=\"T_44c8b_row21_col0\" class=\"data row21 col0\" >20.0</td>\n",
       "      <td id=\"T_44c8b_row21_col1\" class=\"data row21 col1\" >20.4</td>\n",
       "      <td id=\"T_44c8b_row21_col2\" class=\"data row21 col2\" >0.4</td>\n",
       "    </tr>\n",
       "    <tr>\n",
       "      <th id=\"T_44c8b_level0_row22\" class=\"row_heading level0 row22\" >E3</th>\n",
       "      <td id=\"T_44c8b_row22_col0\" class=\"data row22 col0\" >20.6</td>\n",
       "      <td id=\"T_44c8b_row22_col1\" class=\"data row22 col1\" >21.4</td>\n",
       "      <td id=\"T_44c8b_row22_col2\" class=\"data row22 col2\" >0.9</td>\n",
       "    </tr>\n",
       "    <tr>\n",
       "      <th id=\"T_44c8b_level0_row23\" class=\"row_heading level0 row23\" >E4</th>\n",
       "      <td id=\"T_44c8b_row23_col0\" class=\"data row23 col0\" >21.5</td>\n",
       "      <td id=\"T_44c8b_row23_col1\" class=\"data row23 col1\" >22.5</td>\n",
       "      <td id=\"T_44c8b_row23_col2\" class=\"data row23 col2\" >1.0</td>\n",
       "    </tr>\n",
       "    <tr>\n",
       "      <th id=\"T_44c8b_level0_row24\" class=\"row_heading level0 row24\" >E5</th>\n",
       "      <td id=\"T_44c8b_row24_col0\" class=\"data row24 col0\" >22.3</td>\n",
       "      <td id=\"T_44c8b_row24_col1\" class=\"data row24 col1\" >25.5</td>\n",
       "      <td id=\"T_44c8b_row24_col2\" class=\"data row24 col2\" >3.2</td>\n",
       "    </tr>\n",
       "    <tr>\n",
       "      <th id=\"T_44c8b_level0_row25\" class=\"row_heading level0 row25\" >F1</th>\n",
       "      <td id=\"T_44c8b_row25_col0\" class=\"data row25 col0\" >23.2</td>\n",
       "      <td id=\"T_44c8b_row25_col1\" class=\"data row25 col1\" >nan</td>\n",
       "      <td id=\"T_44c8b_row25_col2\" class=\"data row25 col2\" >nan</td>\n",
       "    </tr>\n",
       "    <tr>\n",
       "      <th id=\"T_44c8b_level0_row26\" class=\"row_heading level0 row26\" >F2</th>\n",
       "      <td id=\"T_44c8b_row26_col0\" class=\"data row26 col0\" >23.8</td>\n",
       "      <td id=\"T_44c8b_row26_col1\" class=\"data row26 col1\" >nan</td>\n",
       "      <td id=\"T_44c8b_row26_col2\" class=\"data row26 col2\" >nan</td>\n",
       "    </tr>\n",
       "    <tr>\n",
       "      <th id=\"T_44c8b_level0_row27\" class=\"row_heading level0 row27\" >F3</th>\n",
       "      <td id=\"T_44c8b_row27_col0\" class=\"data row27 col0\" >24.3</td>\n",
       "      <td id=\"T_44c8b_row27_col1\" class=\"data row27 col1\" >nan</td>\n",
       "      <td id=\"T_44c8b_row27_col2\" class=\"data row27 col2\" >nan</td>\n",
       "    </tr>\n",
       "    <tr>\n",
       "      <th id=\"T_44c8b_level0_row28\" class=\"row_heading level0 row28\" >F4</th>\n",
       "      <td id=\"T_44c8b_row28_col0\" class=\"data row28 col0\" >24.8</td>\n",
       "      <td id=\"T_44c8b_row28_col1\" class=\"data row28 col1\" >nan</td>\n",
       "      <td id=\"T_44c8b_row28_col2\" class=\"data row28 col2\" >nan</td>\n",
       "    </tr>\n",
       "    <tr>\n",
       "      <th id=\"T_44c8b_level0_row29\" class=\"row_heading level0 row29\" >F5</th>\n",
       "      <td id=\"T_44c8b_row29_col0\" class=\"data row29 col0\" >25.1</td>\n",
       "      <td id=\"T_44c8b_row29_col1\" class=\"data row29 col1\" >nan</td>\n",
       "      <td id=\"T_44c8b_row29_col2\" class=\"data row29 col2\" >nan</td>\n",
       "    </tr>\n",
       "    <tr>\n",
       "      <th id=\"T_44c8b_level0_row30\" class=\"row_heading level0 row30\" >G1</th>\n",
       "      <td id=\"T_44c8b_row30_col0\" class=\"data row30 col0\" >25.6</td>\n",
       "      <td id=\"T_44c8b_row30_col1\" class=\"data row30 col1\" >nan</td>\n",
       "      <td id=\"T_44c8b_row30_col2\" class=\"data row30 col2\" >nan</td>\n",
       "    </tr>\n",
       "    <tr>\n",
       "      <th id=\"T_44c8b_level0_row31\" class=\"row_heading level0 row31\" >G2</th>\n",
       "      <td id=\"T_44c8b_row31_col0\" class=\"data row31 col0\" >25.9</td>\n",
       "      <td id=\"T_44c8b_row31_col1\" class=\"data row31 col1\" >nan</td>\n",
       "      <td id=\"T_44c8b_row31_col2\" class=\"data row31 col2\" >nan</td>\n",
       "    </tr>\n",
       "    <tr>\n",
       "      <th id=\"T_44c8b_level0_row32\" class=\"row_heading level0 row32\" >G3</th>\n",
       "      <td id=\"T_44c8b_row32_col0\" class=\"data row32 col0\" >26.1</td>\n",
       "      <td id=\"T_44c8b_row32_col1\" class=\"data row32 col1\" >nan</td>\n",
       "      <td id=\"T_44c8b_row32_col2\" class=\"data row32 col2\" >nan</td>\n",
       "    </tr>\n",
       "    <tr>\n",
       "      <th id=\"T_44c8b_level0_row33\" class=\"row_heading level0 row33\" >G4</th>\n",
       "      <td id=\"T_44c8b_row33_col0\" class=\"data row33 col0\" >26.5</td>\n",
       "      <td id=\"T_44c8b_row33_col1\" class=\"data row33 col1\" >nan</td>\n",
       "      <td id=\"T_44c8b_row33_col2\" class=\"data row33 col2\" >nan</td>\n",
       "    </tr>\n",
       "    <tr>\n",
       "      <th id=\"T_44c8b_level0_row34\" class=\"row_heading level0 row34\" >G5</th>\n",
       "      <td id=\"T_44c8b_row34_col0\" class=\"data row34 col0\" >25.7</td>\n",
       "      <td id=\"T_44c8b_row34_col1\" class=\"data row34 col1\" >nan</td>\n",
       "      <td id=\"T_44c8b_row34_col2\" class=\"data row34 col2\" >nan</td>\n",
       "    </tr>\n",
       "  </tbody>\n",
       "</table>\n"
      ],
      "text/plain": [
       "<pandas.io.formats.style.Styler at 0x142a1d88eb0>"
      ]
     },
     "execution_count": 48,
     "metadata": {},
     "output_type": "execute_result"
    }
   ],
   "source": [
    "(rcomp*100).style.format(precision=1)"
   ]
  },
  {
   "cell_type": "markdown",
   "id": "ac74fc57-6bf0-4cab-baf5-e8e09433de1f",
   "metadata": {},
   "source": [
    "## Estimate portfolio returns\n",
    "\n",
    "\n",
    "* Estimate expected portfolio returns using monte carlo:\n",
    "\n",
    "    * Draw a sample of `m` loans\n",
    "\n",
    "    * Simulate random defaults given default rate `p` for each sub-grade\n",
    "        \n",
    "    * Estimate expected value of each loan portfolio\n",
    "\n",
    "* Use `numba` to speed up sims"
   ]
  },
  {
   "cell_type": "code",
   "execution_count": 49,
   "id": "50e8baaf-a071-429f-9e03-e0bf704c018a",
   "metadata": {
    "tags": []
   },
   "outputs": [],
   "source": [
    "@njit\n",
    "def estimate_ev(P, t, m, ead, p, r, rf, n=10000):\n",
    "    \"\"\"\n",
    "    Estimate expected value of loan portfolio given default probability `p`\n",
    "    t: term\n",
    "    m: number of loans\n",
    "    ead: principal outstanding at default\n",
    "    p: default probability\n",
    "    r: interest rate applied\n",
    "    rf: discount rate\n",
    "    n: number of iters\n",
    "    \n",
    "    return: array of simulated returns\n",
    "    \"\"\"\n",
    "    idx = np.arange(t.shape[0], dtype=np.int64)\n",
    "    ev = np.zeros(n, dtype=np.float32)\n",
    "\n",
    "    # interest to be collected\n",
    "    EMI = emi(P, t, r/12)\n",
    "    APV = apv(EMI, rf, t)    \n",
    "    NPV = -P + APV\n",
    "\n",
    "    for i in range(n):\n",
    "        # draw a sample from all loans\n",
    "        # using because of varying term\n",
    "        sample_idx = np.random.choice(idx, m)\n",
    "        \n",
    "        # generate random defaults\n",
    "        survived =  np.random.random(m) >= p\n",
    "        # losses from defaults\n",
    "        number_defaults = m - survived.sum()\n",
    "        losses = number_defaults * ead_p\n",
    "        # discounted interest from non-defaulted\n",
    "        profits = NPV[sample_idx][survived].sum()        \n",
    "        ev[i] = profits - losses\n",
    "    return ev"
   ]
  },
  {
   "cell_type": "code",
   "execution_count": 50,
   "id": "df9b4c17-6f71-49f3-b930-d0ee50348ef3",
   "metadata": {
    "tags": []
   },
   "outputs": [],
   "source": [
    "def get_portfolio_er(portfolio: dict[str, int], rates: dict[str, float], loan_data: pd.DataFrame):\n",
    "    \"\"\"\n",
    "    Estimate expected value of loan portfolio give number of loans in each sub-grade and corresponding interest rates\n",
    "    \"\"\"\n",
    "    ead = loan_data.groupby('ngrade').exposure.mean()\n",
    "    \n",
    "    num_subgrades = len(portfolio.keys())\n",
    "    \n",
    "    # number of portfolios\n",
    "    n = 50000\n",
    "    # empty result array\n",
    "    evs = np.zeros((num_subgrades, n), dtype=np.float32)\n",
    "    \n",
    "    for i, sub_grade in enumerate(portfolio.items()):\n",
    "        # number of sub-grade loans\n",
    "        m = sub_grade[1]\n",
    "        # historical sub-grade data\n",
    "        slc = loan_data.loc[loan_data.nsub_grade==sub_grade[0]]\n",
    "        # sub-grade default prob\n",
    "        p = slc.proba.mean()\n",
    "        # principal\n",
    "        P = 1\n",
    "        # term\n",
    "        t = slc.term.values\n",
    "        # sub-grade interest rate \n",
    "        r = rates[sub_grade[0]]\n",
    "        # sub-grade ead\n",
    "        ead_p = ead[sub_grade[0][0]]\n",
    "\n",
    "        evs[i] = estimate_ev(P, t, m, ead_p, p, r, rf, n=n)\n",
    "\n",
    "    profits = evs.sum(axis=0)\n",
    "\n",
    "    # probability to earn less than discount rate\n",
    "    loss_p = profits[profits<0].shape[0] / profits.shape[0]\n",
    "\n",
    "    # average loss\n",
    "    loss_avg = profits[profits<0].mean() / sum(portfolio.values())\n",
    "\n",
    "    # expected return over discount rate\n",
    "    er = profits.mean() / sum(portfolio.values())\n",
    "\n",
    "    pnl = pd.DataFrame([loss_p, loss_avg, er], index=['Loss_prob', 'Avg_loss', 'ER']).T\n",
    "\n",
    "    plt.hist(profits/ sum(portfolio.values()))\n",
    "    plt.title('Expected returns')\n",
    "\n",
    "    return [pnl, evs]"
   ]
  },
  {
   "cell_type": "code",
   "execution_count": 51,
   "id": "07774ac8-8540-4ea0-9ab7-b209c83936b3",
   "metadata": {
    "tags": []
   },
   "outputs": [],
   "source": [
    "# discount rate\n",
    "rf = 0.04/12\n",
    "\n",
    "# assuming equal amount invested into each loan\n",
    "# number of sub-grade loans in a portfolio\n",
    "portfolio = {\n",
    "    'A1': 10,\n",
    "    'A2': 10,\n",
    "    'A3': 10,\n",
    "    'A4': 10,\n",
    "    'A5': 10,\n",
    "    'B1': 10,\n",
    "    'B2': 10,\n",
    "    'B3': 10,\n",
    "    'B4': 10,\n",
    "    'B5': 10,\n",
    "    'C1': 10,\n",
    "    'C2': 10,\n",
    "    'C3': 10,\n",
    "    'C4': 10,\n",
    "    'C5': 10,\n",
    "    'D1': 10,\n",
    "    'D2': 10,\n",
    "    'D3': 10,\n",
    "    'D4': 10,\n",
    "    'D5': 10,\n",
    "    'E1': 10,\n",
    "    'E2': 10,\n",
    "    'E3': 10,\n",
    "    'E4': 10,\n",
    "    'E5': 10}\n"
   ]
  },
  {
   "cell_type": "code",
   "execution_count": 52,
   "id": "8c3712bd-ae30-404a-807a-131996adfeb4",
   "metadata": {
    "tags": []
   },
   "outputs": [
    {
     "data": {
      "image/png": "[encoded data removed]",
      "text/plain": [
       "<Figure size 640x480 with 1 Axes>"
      ]
     },
     "metadata": {},
     "output_type": "display_data"
    }
   ],
   "source": [
    "pnl, evs = get_portfolio_er(portfolio, rates, loans_train)"
   ]
  },
  {
   "cell_type": "code",
   "execution_count": 53,
   "id": "4f0f000d-dcbe-4e75-8633-01c5c4f4ca7f",
   "metadata": {
    "tags": []
   },
   "outputs": [
    {
     "data": {
      "text/html": [
       "<div>\n",
       "<style scoped>\n",
       "    .dataframe tbody tr th:only-of-type {\n",
       "        vertical-align: middle;\n",
       "    }\n",
       "\n",
       "    .dataframe tbody tr th {\n",
       "        vertical-align: top;\n",
       "    }\n",
       "\n",
       "    .dataframe thead th {\n",
       "        text-align: right;\n",
       "    }\n",
       "</style>\n",
       "<table border=\"1\" class=\"dataframe\">\n",
       "  <thead>\n",
       "    <tr style=\"text-align: right;\">\n",
       "      <th></th>\n",
       "      <th>Loss_prob</th>\n",
       "      <th>Avg_loss</th>\n",
       "      <th>ER</th>\n",
       "    </tr>\n",
       "  </thead>\n",
       "  <tbody>\n",
       "    <tr>\n",
       "      <th>0</th>\n",
       "      <td>0.08804</td>\n",
       "      <td>-0.007981</td>\n",
       "      <td>0.02291</td>\n",
       "    </tr>\n",
       "  </tbody>\n",
       "</table>\n",
       "</div>"
      ],
      "text/plain": [
       "   Loss_prob  Avg_loss       ER\n",
       "0    0.08804 -0.007981  0.02291"
      ]
     },
     "execution_count": 53,
     "metadata": {},
     "output_type": "execute_result"
    }
   ],
   "source": [
    "pnl"
   ]
  },
  {
   "cell_type": "code",
   "execution_count": null,
   "id": "87f6ff31-aae7-4b48-8045-c455a5bdcb6e",
   "metadata": {},
   "outputs": [],
   "source": []
  }
 ],
 "metadata": {
  "kernelspec": {
   "display_name": "env",
   "language": "python",
   "name": "env"
  },
  "language_info": {
   "codemirror_mode": {
    "name": "ipython",
    "version": 3
   },
   "file_extension": ".py",
   "mimetype": "text/x-python",
   "name": "python",
   "nbconvert_exporter": "python",
   "pygments_lexer": "ipython3",
   "version": "3.10.4"
  }
 },
 "nbformat": 4,
 "nbformat_minor": 5
}
